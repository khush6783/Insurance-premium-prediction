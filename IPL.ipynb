{
 "cells": [
  {
   "cell_type": "markdown",
   "metadata": {},
   "source": [
    "# Analysing the IPL data set\n",
    "\n",
    "One of the main reasons behind choosing this data set is because of my interest in cricketing world. Also the most famous league in the world is the Indian Premiere League so it was always an option to analyze what has been the past records and results of the league. To download the data opendatasets has been used and to clean and visualize the data pandas, matplotlib and seaborn has been used. "
   ]
  },
  {
   "cell_type": "markdown",
   "metadata": {},
   "source": [
    "## Downloading the Dataset\n",
    "\n",
    "To download the dataset from the kaggle directly into the project folder opendatasets module has been first installed\n",
    "and then imported."
   ]
  },
  {
   "cell_type": "code",
   "execution_count": 1,
   "metadata": {},
   "outputs": [],
   "source": [
    "!pip install jovian opendatasets --upgrade --quiet"
   ]
  },
  {
   "cell_type": "markdown",
   "metadata": {},
   "source": [
    "Let's begin by downloading the data, and listing the files within the dataset."
   ]
  },
  {
   "cell_type": "code",
   "execution_count": 2,
   "metadata": {},
   "outputs": [],
   "source": [
    "#Lets load the url into ipl_data_url object\n",
    "ipl_data_url = 'https://www.kaggle.com/patrickb1912/ipl-complete-dataset-20082020' "
   ]
  },
  {
   "cell_type": "code",
   "execution_count": 3,
   "metadata": {},
   "outputs": [],
   "source": [
    "import opendatasets as od\n",
    "od.download(ipl_data_url)"
   ]
  },
  {
   "cell_type": "markdown",
   "metadata": {},
   "source": [
    "The dataset has been downloaded and extracted."
   ]
  },
  {
   "cell_type": "code",
   "execution_count": 4,
   "metadata": {},
   "outputs": [],
   "source": [
    "#Lets see how many files are there in the dataset which has been downloaded\n",
    "data_dir = './ipl-complete-dataset-20082020'"
   ]
  },
  {
   "cell_type": "code",
   "execution_count": 5,
   "metadata": {},
   "outputs": [
    {
     "data": {
      "text/plain": [
       "['IPL Ball-by-Ball 2008-2020.csv', 'IPL Matches 2008-2020.csv']"
      ]
     },
     "execution_count": 5,
     "metadata": {},
     "output_type": "execute_result"
    }
   ],
   "source": [
    "import os\n",
    "os.listdir(data_dir)"
   ]
  },
  {
   "cell_type": "markdown",
   "metadata": {},
   "source": [
    "Lets save our work to Jovian."
   ]
  },
  {
   "cell_type": "code",
   "execution_count": 6,
   "metadata": {},
   "outputs": [],
   "source": [
    "project_name = \"zerotopandas-course-project-ipl\" "
   ]
  },
  {
   "cell_type": "code",
   "execution_count": 7,
   "metadata": {},
   "outputs": [],
   "source": [
    "!pip install jovian --upgrade -q"
   ]
  },
  {
   "cell_type": "code",
   "execution_count": 8,
   "metadata": {},
   "outputs": [
    {
     "data": {
      "application/javascript": [
       "window.require && require([\"base/js/namespace\"],function(Jupyter){Jupyter.notebook.save_checkpoint()})"
      ],
      "text/plain": [
       "<IPython.core.display.Javascript object>"
      ]
     },
     "metadata": {},
     "output_type": "display_data"
    },
    {
     "name": "stdout",
     "output_type": "stream",
     "text": [
      "[jovian] Updating notebook \"khush3nandecha/zerotopandas-course-project-ipl\" on https://jovian.ai/\n",
      "[jovian] Committed successfully! https://jovian.ai/khush3nandecha/zerotopandas-course-project-ipl\n"
     ]
    },
    {
     "data": {
      "text/plain": [
       "'https://jovian.ai/khush3nandecha/zerotopandas-course-project-ipl'"
      ]
     },
     "execution_count": 8,
     "metadata": {},
     "output_type": "execute_result"
    }
   ],
   "source": [
    "import jovian\n",
    "jovian.commit(project=project_name)"
   ]
  },
  {
   "cell_type": "markdown",
   "metadata": {},
   "source": [
    "## Data Preparation and Cleaning\n",
    "\n",
    "Lets load the required libraries and then using them load the dataset and perform the required operations.\n",
    "\n"
   ]
  },
  {
   "cell_type": "code",
   "execution_count": 9,
   "metadata": {},
   "outputs": [],
   "source": [
    "import pandas as pd"
   ]
  },
  {
   "cell_type": "code",
   "execution_count": 10,
   "metadata": {},
   "outputs": [],
   "source": [
    "#Let us first load the dataset into an object named ipl_matches\n",
    "ipl_matches = pd.read_csv('./ipl-complete-dataset-20082020/IPL Matches 2008-2020.csv')"
   ]
  },
  {
   "cell_type": "code",
   "execution_count": 11,
   "metadata": {},
   "outputs": [
    {
     "data": {
      "text/html": [
       "<div>\n",
       "<style scoped>\n",
       "    .dataframe tbody tr th:only-of-type {\n",
       "        vertical-align: middle;\n",
       "    }\n",
       "\n",
       "    .dataframe tbody tr th {\n",
       "        vertical-align: top;\n",
       "    }\n",
       "\n",
       "    .dataframe thead th {\n",
       "        text-align: right;\n",
       "    }\n",
       "</style>\n",
       "<table border=\"1\" class=\"dataframe\">\n",
       "  <thead>\n",
       "    <tr style=\"text-align: right;\">\n",
       "      <th></th>\n",
       "      <th>id</th>\n",
       "      <th>city</th>\n",
       "      <th>date</th>\n",
       "      <th>player_of_match</th>\n",
       "      <th>venue</th>\n",
       "      <th>neutral_venue</th>\n",
       "      <th>team1</th>\n",
       "      <th>team2</th>\n",
       "      <th>toss_winner</th>\n",
       "      <th>toss_decision</th>\n",
       "      <th>winner</th>\n",
       "      <th>result</th>\n",
       "      <th>result_margin</th>\n",
       "      <th>eliminator</th>\n",
       "      <th>method</th>\n",
       "      <th>umpire1</th>\n",
       "      <th>umpire2</th>\n",
       "    </tr>\n",
       "  </thead>\n",
       "  <tbody>\n",
       "    <tr>\n",
       "      <th>0</th>\n",
       "      <td>335982</td>\n",
       "      <td>Bangalore</td>\n",
       "      <td>2008-04-18</td>\n",
       "      <td>BB McCullum</td>\n",
       "      <td>M Chinnaswamy Stadium</td>\n",
       "      <td>0</td>\n",
       "      <td>Royal Challengers Bangalore</td>\n",
       "      <td>Kolkata Knight Riders</td>\n",
       "      <td>Royal Challengers Bangalore</td>\n",
       "      <td>field</td>\n",
       "      <td>Kolkata Knight Riders</td>\n",
       "      <td>runs</td>\n",
       "      <td>140.0</td>\n",
       "      <td>N</td>\n",
       "      <td>NaN</td>\n",
       "      <td>Asad Rauf</td>\n",
       "      <td>RE Koertzen</td>\n",
       "    </tr>\n",
       "    <tr>\n",
       "      <th>1</th>\n",
       "      <td>335983</td>\n",
       "      <td>Chandigarh</td>\n",
       "      <td>2008-04-19</td>\n",
       "      <td>MEK Hussey</td>\n",
       "      <td>Punjab Cricket Association Stadium, Mohali</td>\n",
       "      <td>0</td>\n",
       "      <td>Kings XI Punjab</td>\n",
       "      <td>Chennai Super Kings</td>\n",
       "      <td>Chennai Super Kings</td>\n",
       "      <td>bat</td>\n",
       "      <td>Chennai Super Kings</td>\n",
       "      <td>runs</td>\n",
       "      <td>33.0</td>\n",
       "      <td>N</td>\n",
       "      <td>NaN</td>\n",
       "      <td>MR Benson</td>\n",
       "      <td>SL Shastri</td>\n",
       "    </tr>\n",
       "    <tr>\n",
       "      <th>2</th>\n",
       "      <td>335984</td>\n",
       "      <td>Delhi</td>\n",
       "      <td>2008-04-19</td>\n",
       "      <td>MF Maharoof</td>\n",
       "      <td>Feroz Shah Kotla</td>\n",
       "      <td>0</td>\n",
       "      <td>Delhi Daredevils</td>\n",
       "      <td>Rajasthan Royals</td>\n",
       "      <td>Rajasthan Royals</td>\n",
       "      <td>bat</td>\n",
       "      <td>Delhi Daredevils</td>\n",
       "      <td>wickets</td>\n",
       "      <td>9.0</td>\n",
       "      <td>N</td>\n",
       "      <td>NaN</td>\n",
       "      <td>Aleem Dar</td>\n",
       "      <td>GA Pratapkumar</td>\n",
       "    </tr>\n",
       "    <tr>\n",
       "      <th>3</th>\n",
       "      <td>335985</td>\n",
       "      <td>Mumbai</td>\n",
       "      <td>2008-04-20</td>\n",
       "      <td>MV Boucher</td>\n",
       "      <td>Wankhede Stadium</td>\n",
       "      <td>0</td>\n",
       "      <td>Mumbai Indians</td>\n",
       "      <td>Royal Challengers Bangalore</td>\n",
       "      <td>Mumbai Indians</td>\n",
       "      <td>bat</td>\n",
       "      <td>Royal Challengers Bangalore</td>\n",
       "      <td>wickets</td>\n",
       "      <td>5.0</td>\n",
       "      <td>N</td>\n",
       "      <td>NaN</td>\n",
       "      <td>SJ Davis</td>\n",
       "      <td>DJ Harper</td>\n",
       "    </tr>\n",
       "    <tr>\n",
       "      <th>4</th>\n",
       "      <td>335986</td>\n",
       "      <td>Kolkata</td>\n",
       "      <td>2008-04-20</td>\n",
       "      <td>DJ Hussey</td>\n",
       "      <td>Eden Gardens</td>\n",
       "      <td>0</td>\n",
       "      <td>Kolkata Knight Riders</td>\n",
       "      <td>Deccan Chargers</td>\n",
       "      <td>Deccan Chargers</td>\n",
       "      <td>bat</td>\n",
       "      <td>Kolkata Knight Riders</td>\n",
       "      <td>wickets</td>\n",
       "      <td>5.0</td>\n",
       "      <td>N</td>\n",
       "      <td>NaN</td>\n",
       "      <td>BF Bowden</td>\n",
       "      <td>K Hariharan</td>\n",
       "    </tr>\n",
       "  </tbody>\n",
       "</table>\n",
       "</div>"
      ],
      "text/plain": [
       "       id        city        date player_of_match  \\\n",
       "0  335982   Bangalore  2008-04-18     BB McCullum   \n",
       "1  335983  Chandigarh  2008-04-19      MEK Hussey   \n",
       "2  335984       Delhi  2008-04-19     MF Maharoof   \n",
       "3  335985      Mumbai  2008-04-20      MV Boucher   \n",
       "4  335986     Kolkata  2008-04-20       DJ Hussey   \n",
       "\n",
       "                                        venue  neutral_venue  \\\n",
       "0                       M Chinnaswamy Stadium              0   \n",
       "1  Punjab Cricket Association Stadium, Mohali              0   \n",
       "2                            Feroz Shah Kotla              0   \n",
       "3                            Wankhede Stadium              0   \n",
       "4                                Eden Gardens              0   \n",
       "\n",
       "                         team1                        team2  \\\n",
       "0  Royal Challengers Bangalore        Kolkata Knight Riders   \n",
       "1              Kings XI Punjab          Chennai Super Kings   \n",
       "2             Delhi Daredevils             Rajasthan Royals   \n",
       "3               Mumbai Indians  Royal Challengers Bangalore   \n",
       "4        Kolkata Knight Riders              Deccan Chargers   \n",
       "\n",
       "                   toss_winner toss_decision                       winner  \\\n",
       "0  Royal Challengers Bangalore         field        Kolkata Knight Riders   \n",
       "1          Chennai Super Kings           bat          Chennai Super Kings   \n",
       "2             Rajasthan Royals           bat             Delhi Daredevils   \n",
       "3               Mumbai Indians           bat  Royal Challengers Bangalore   \n",
       "4              Deccan Chargers           bat        Kolkata Knight Riders   \n",
       "\n",
       "    result  result_margin eliminator method    umpire1         umpire2  \n",
       "0     runs          140.0          N    NaN  Asad Rauf     RE Koertzen  \n",
       "1     runs           33.0          N    NaN  MR Benson      SL Shastri  \n",
       "2  wickets            9.0          N    NaN  Aleem Dar  GA Pratapkumar  \n",
       "3  wickets            5.0          N    NaN   SJ Davis       DJ Harper  \n",
       "4  wickets            5.0          N    NaN  BF Bowden     K Hariharan  "
      ]
     },
     "execution_count": 11,
     "metadata": {},
     "output_type": "execute_result"
    }
   ],
   "source": [
    "ipl_matches.head()"
   ]
  },
  {
   "cell_type": "code",
   "execution_count": 12,
   "metadata": {},
   "outputs": [
    {
     "data": {
      "text/html": [
       "<div>\n",
       "<style scoped>\n",
       "    .dataframe tbody tr th:only-of-type {\n",
       "        vertical-align: middle;\n",
       "    }\n",
       "\n",
       "    .dataframe tbody tr th {\n",
       "        vertical-align: top;\n",
       "    }\n",
       "\n",
       "    .dataframe thead th {\n",
       "        text-align: right;\n",
       "    }\n",
       "</style>\n",
       "<table border=\"1\" class=\"dataframe\">\n",
       "  <thead>\n",
       "    <tr style=\"text-align: right;\">\n",
       "      <th></th>\n",
       "      <th>id</th>\n",
       "      <th>city</th>\n",
       "      <th>date</th>\n",
       "      <th>player_of_match</th>\n",
       "      <th>venue</th>\n",
       "      <th>neutral_venue</th>\n",
       "      <th>team1</th>\n",
       "      <th>team2</th>\n",
       "      <th>toss_winner</th>\n",
       "      <th>toss_decision</th>\n",
       "      <th>winner</th>\n",
       "      <th>result</th>\n",
       "      <th>result_margin</th>\n",
       "      <th>eliminator</th>\n",
       "      <th>method</th>\n",
       "      <th>umpire1</th>\n",
       "      <th>umpire2</th>\n",
       "    </tr>\n",
       "  </thead>\n",
       "  <tbody>\n",
       "    <tr>\n",
       "      <th>811</th>\n",
       "      <td>1216547</td>\n",
       "      <td>Dubai</td>\n",
       "      <td>2020-09-28</td>\n",
       "      <td>AB de Villiers</td>\n",
       "      <td>Dubai International Cricket Stadium</td>\n",
       "      <td>0</td>\n",
       "      <td>Royal Challengers Bangalore</td>\n",
       "      <td>Mumbai Indians</td>\n",
       "      <td>Mumbai Indians</td>\n",
       "      <td>field</td>\n",
       "      <td>Royal Challengers Bangalore</td>\n",
       "      <td>tie</td>\n",
       "      <td>NaN</td>\n",
       "      <td>Y</td>\n",
       "      <td>NaN</td>\n",
       "      <td>Nitin Menon</td>\n",
       "      <td>PR Reiffel</td>\n",
       "    </tr>\n",
       "    <tr>\n",
       "      <th>812</th>\n",
       "      <td>1237177</td>\n",
       "      <td>Dubai</td>\n",
       "      <td>2020-11-05</td>\n",
       "      <td>JJ Bumrah</td>\n",
       "      <td>Dubai International Cricket Stadium</td>\n",
       "      <td>0</td>\n",
       "      <td>Mumbai Indians</td>\n",
       "      <td>Delhi Capitals</td>\n",
       "      <td>Delhi Capitals</td>\n",
       "      <td>field</td>\n",
       "      <td>Mumbai Indians</td>\n",
       "      <td>runs</td>\n",
       "      <td>57.0</td>\n",
       "      <td>N</td>\n",
       "      <td>NaN</td>\n",
       "      <td>CB Gaffaney</td>\n",
       "      <td>Nitin Menon</td>\n",
       "    </tr>\n",
       "    <tr>\n",
       "      <th>813</th>\n",
       "      <td>1237178</td>\n",
       "      <td>Abu Dhabi</td>\n",
       "      <td>2020-11-06</td>\n",
       "      <td>KS Williamson</td>\n",
       "      <td>Sheikh Zayed Stadium</td>\n",
       "      <td>0</td>\n",
       "      <td>Royal Challengers Bangalore</td>\n",
       "      <td>Sunrisers Hyderabad</td>\n",
       "      <td>Sunrisers Hyderabad</td>\n",
       "      <td>field</td>\n",
       "      <td>Sunrisers Hyderabad</td>\n",
       "      <td>wickets</td>\n",
       "      <td>6.0</td>\n",
       "      <td>N</td>\n",
       "      <td>NaN</td>\n",
       "      <td>PR Reiffel</td>\n",
       "      <td>S Ravi</td>\n",
       "    </tr>\n",
       "    <tr>\n",
       "      <th>814</th>\n",
       "      <td>1237180</td>\n",
       "      <td>Abu Dhabi</td>\n",
       "      <td>2020-11-08</td>\n",
       "      <td>MP Stoinis</td>\n",
       "      <td>Sheikh Zayed Stadium</td>\n",
       "      <td>0</td>\n",
       "      <td>Delhi Capitals</td>\n",
       "      <td>Sunrisers Hyderabad</td>\n",
       "      <td>Delhi Capitals</td>\n",
       "      <td>bat</td>\n",
       "      <td>Delhi Capitals</td>\n",
       "      <td>runs</td>\n",
       "      <td>17.0</td>\n",
       "      <td>N</td>\n",
       "      <td>NaN</td>\n",
       "      <td>PR Reiffel</td>\n",
       "      <td>S Ravi</td>\n",
       "    </tr>\n",
       "    <tr>\n",
       "      <th>815</th>\n",
       "      <td>1237181</td>\n",
       "      <td>Dubai</td>\n",
       "      <td>2020-11-10</td>\n",
       "      <td>TA Boult</td>\n",
       "      <td>Dubai International Cricket Stadium</td>\n",
       "      <td>0</td>\n",
       "      <td>Delhi Capitals</td>\n",
       "      <td>Mumbai Indians</td>\n",
       "      <td>Delhi Capitals</td>\n",
       "      <td>bat</td>\n",
       "      <td>Mumbai Indians</td>\n",
       "      <td>wickets</td>\n",
       "      <td>5.0</td>\n",
       "      <td>N</td>\n",
       "      <td>NaN</td>\n",
       "      <td>CB Gaffaney</td>\n",
       "      <td>Nitin Menon</td>\n",
       "    </tr>\n",
       "  </tbody>\n",
       "</table>\n",
       "</div>"
      ],
      "text/plain": [
       "          id       city        date player_of_match  \\\n",
       "811  1216547      Dubai  2020-09-28  AB de Villiers   \n",
       "812  1237177      Dubai  2020-11-05       JJ Bumrah   \n",
       "813  1237178  Abu Dhabi  2020-11-06   KS Williamson   \n",
       "814  1237180  Abu Dhabi  2020-11-08      MP Stoinis   \n",
       "815  1237181      Dubai  2020-11-10        TA Boult   \n",
       "\n",
       "                                   venue  neutral_venue  \\\n",
       "811  Dubai International Cricket Stadium              0   \n",
       "812  Dubai International Cricket Stadium              0   \n",
       "813                 Sheikh Zayed Stadium              0   \n",
       "814                 Sheikh Zayed Stadium              0   \n",
       "815  Dubai International Cricket Stadium              0   \n",
       "\n",
       "                           team1                team2          toss_winner  \\\n",
       "811  Royal Challengers Bangalore       Mumbai Indians       Mumbai Indians   \n",
       "812               Mumbai Indians       Delhi Capitals       Delhi Capitals   \n",
       "813  Royal Challengers Bangalore  Sunrisers Hyderabad  Sunrisers Hyderabad   \n",
       "814               Delhi Capitals  Sunrisers Hyderabad       Delhi Capitals   \n",
       "815               Delhi Capitals       Mumbai Indians       Delhi Capitals   \n",
       "\n",
       "    toss_decision                       winner   result  result_margin  \\\n",
       "811         field  Royal Challengers Bangalore      tie            NaN   \n",
       "812         field               Mumbai Indians     runs           57.0   \n",
       "813         field          Sunrisers Hyderabad  wickets            6.0   \n",
       "814           bat               Delhi Capitals     runs           17.0   \n",
       "815           bat               Mumbai Indians  wickets            5.0   \n",
       "\n",
       "    eliminator method      umpire1      umpire2  \n",
       "811          Y    NaN  Nitin Menon   PR Reiffel  \n",
       "812          N    NaN  CB Gaffaney  Nitin Menon  \n",
       "813          N    NaN   PR Reiffel       S Ravi  \n",
       "814          N    NaN   PR Reiffel       S Ravi  \n",
       "815          N    NaN  CB Gaffaney  Nitin Menon  "
      ]
     },
     "execution_count": 12,
     "metadata": {},
     "output_type": "execute_result"
    }
   ],
   "source": [
    "ipl_matches.tail()"
   ]
  },
  {
   "cell_type": "markdown",
   "metadata": {},
   "source": [
    "It is evident that the data set contains matches from 18-4-2008 to 10-11-2020"
   ]
  },
  {
   "cell_type": "code",
   "execution_count": 13,
   "metadata": {},
   "outputs": [
    {
     "data": {
      "text/plain": [
       "(816, 17)"
      ]
     },
     "execution_count": 13,
     "metadata": {},
     "output_type": "execute_result"
    }
   ],
   "source": [
    "#Now lets see the number of rows and columns in the data set.\n",
    "ipl_matches.shape"
   ]
  },
  {
   "cell_type": "markdown",
   "metadata": {},
   "source": [
    "###### Total of 816 IPL matches has been played till 10-11-2020"
   ]
  },
  {
   "cell_type": "markdown",
   "metadata": {},
   "source": [
    "Now lets see the number of tosses each team has won."
   ]
  },
  {
   "cell_type": "code",
   "execution_count": 14,
   "metadata": {},
   "outputs": [
    {
     "data": {
      "text/plain": [
       "Mumbai Indians                 106\n",
       "Kolkata Knight Riders           98\n",
       "Chennai Super Kings             97\n",
       "Royal Challengers Bangalore     87\n",
       "Rajasthan Royals                87\n",
       "Kings XI Punjab                 85\n",
       "Delhi Daredevils                80\n",
       "Sunrisers Hyderabad             57\n",
       "Deccan Chargers                 43\n",
       "Delhi Capitals                  20\n",
       "Pune Warriors                   20\n",
       "Gujarat Lions                   15\n",
       "Kochi Tuskers Kerala             8\n",
       "Rising Pune Supergiants          7\n",
       "Rising Pune Supergiant           6\n",
       "Name: toss_winner, dtype: int64"
      ]
     },
     "execution_count": 14,
     "metadata": {},
     "output_type": "execute_result"
    }
   ],
   "source": [
    "ipl_matches.toss_winner.value_counts()"
   ]
  },
  {
   "cell_type": "markdown",
   "metadata": {},
   "source": [
    "From the above result it is evident that team pune has appeared in the data with two names, so lets correct it."
   ]
  },
  {
   "cell_type": "code",
   "execution_count": 15,
   "metadata": {},
   "outputs": [
    {
     "data": {
      "text/html": [
       "<div>\n",
       "<style scoped>\n",
       "    .dataframe tbody tr th:only-of-type {\n",
       "        vertical-align: middle;\n",
       "    }\n",
       "\n",
       "    .dataframe tbody tr th {\n",
       "        vertical-align: top;\n",
       "    }\n",
       "\n",
       "    .dataframe thead th {\n",
       "        text-align: right;\n",
       "    }\n",
       "</style>\n",
       "<table border=\"1\" class=\"dataframe\">\n",
       "  <thead>\n",
       "    <tr style=\"text-align: right;\">\n",
       "      <th></th>\n",
       "      <th>id</th>\n",
       "      <th>city</th>\n",
       "      <th>date</th>\n",
       "      <th>player_of_match</th>\n",
       "      <th>venue</th>\n",
       "      <th>neutral_venue</th>\n",
       "      <th>team1</th>\n",
       "      <th>team2</th>\n",
       "      <th>toss_winner</th>\n",
       "      <th>toss_decision</th>\n",
       "      <th>winner</th>\n",
       "      <th>result</th>\n",
       "      <th>result_margin</th>\n",
       "      <th>eliminator</th>\n",
       "      <th>method</th>\n",
       "      <th>umpire1</th>\n",
       "      <th>umpire2</th>\n",
       "    </tr>\n",
       "  </thead>\n",
       "  <tbody>\n",
       "    <tr>\n",
       "      <th>578</th>\n",
       "      <td>1082592</td>\n",
       "      <td>Pune</td>\n",
       "      <td>2017-04-06</td>\n",
       "      <td>SPD Smith</td>\n",
       "      <td>Maharashtra Cricket Association Stadium</td>\n",
       "      <td>0</td>\n",
       "      <td>Rising Pune Supergiant</td>\n",
       "      <td>Mumbai Indians</td>\n",
       "      <td>Rising Pune Supergiant</td>\n",
       "      <td>field</td>\n",
       "      <td>Rising Pune Supergiant</td>\n",
       "      <td>wickets</td>\n",
       "      <td>7.0</td>\n",
       "      <td>N</td>\n",
       "      <td>NaN</td>\n",
       "      <td>A Nand Kishore</td>\n",
       "      <td>S Ravi</td>\n",
       "    </tr>\n",
       "    <tr>\n",
       "      <th>585</th>\n",
       "      <td>1082599</td>\n",
       "      <td>Pune</td>\n",
       "      <td>2017-04-11</td>\n",
       "      <td>SV Samson</td>\n",
       "      <td>Maharashtra Cricket Association Stadium</td>\n",
       "      <td>0</td>\n",
       "      <td>Rising Pune Supergiant</td>\n",
       "      <td>Delhi Daredevils</td>\n",
       "      <td>Rising Pune Supergiant</td>\n",
       "      <td>field</td>\n",
       "      <td>Delhi Daredevils</td>\n",
       "      <td>runs</td>\n",
       "      <td>97.0</td>\n",
       "      <td>N</td>\n",
       "      <td>NaN</td>\n",
       "      <td>AY Dandekar</td>\n",
       "      <td>S Ravi</td>\n",
       "    </tr>\n",
       "    <tr>\n",
       "      <th>601</th>\n",
       "      <td>1082615</td>\n",
       "      <td>Pune</td>\n",
       "      <td>2017-04-22</td>\n",
       "      <td>MS Dhoni</td>\n",
       "      <td>Maharashtra Cricket Association Stadium</td>\n",
       "      <td>0</td>\n",
       "      <td>Rising Pune Supergiant</td>\n",
       "      <td>Sunrisers Hyderabad</td>\n",
       "      <td>Rising Pune Supergiant</td>\n",
       "      <td>field</td>\n",
       "      <td>Rising Pune Supergiant</td>\n",
       "      <td>wickets</td>\n",
       "      <td>6.0</td>\n",
       "      <td>N</td>\n",
       "      <td>NaN</td>\n",
       "      <td>AY Dandekar</td>\n",
       "      <td>A Deshmukh</td>\n",
       "    </tr>\n",
       "    <tr>\n",
       "      <th>614</th>\n",
       "      <td>1082629</td>\n",
       "      <td>Pune</td>\n",
       "      <td>2017-05-01</td>\n",
       "      <td>BA Stokes</td>\n",
       "      <td>Maharashtra Cricket Association Stadium</td>\n",
       "      <td>0</td>\n",
       "      <td>Rising Pune Supergiant</td>\n",
       "      <td>Gujarat Lions</td>\n",
       "      <td>Rising Pune Supergiant</td>\n",
       "      <td>field</td>\n",
       "      <td>Rising Pune Supergiant</td>\n",
       "      <td>wickets</td>\n",
       "      <td>5.0</td>\n",
       "      <td>N</td>\n",
       "      <td>NaN</td>\n",
       "      <td>M Erasmus</td>\n",
       "      <td>C Shamshuddin</td>\n",
       "    </tr>\n",
       "    <tr>\n",
       "      <th>616</th>\n",
       "      <td>1082631</td>\n",
       "      <td>Kolkata</td>\n",
       "      <td>2017-05-03</td>\n",
       "      <td>RA Tripathi</td>\n",
       "      <td>Eden Gardens</td>\n",
       "      <td>0</td>\n",
       "      <td>Kolkata Knight Riders</td>\n",
       "      <td>Rising Pune Supergiant</td>\n",
       "      <td>Rising Pune Supergiant</td>\n",
       "      <td>field</td>\n",
       "      <td>Rising Pune Supergiant</td>\n",
       "      <td>wickets</td>\n",
       "      <td>4.0</td>\n",
       "      <td>N</td>\n",
       "      <td>NaN</td>\n",
       "      <td>KN Ananthapadmanabhan</td>\n",
       "      <td>A Nand Kishore</td>\n",
       "    </tr>\n",
       "    <tr>\n",
       "      <th>630</th>\n",
       "      <td>1082645</td>\n",
       "      <td>Pune</td>\n",
       "      <td>2017-05-14</td>\n",
       "      <td>JD Unadkat</td>\n",
       "      <td>Maharashtra Cricket Association Stadium</td>\n",
       "      <td>0</td>\n",
       "      <td>Rising Pune Supergiant</td>\n",
       "      <td>Kings XI Punjab</td>\n",
       "      <td>Rising Pune Supergiant</td>\n",
       "      <td>field</td>\n",
       "      <td>Rising Pune Supergiant</td>\n",
       "      <td>wickets</td>\n",
       "      <td>9.0</td>\n",
       "      <td>N</td>\n",
       "      <td>NaN</td>\n",
       "      <td>AY Dandekar</td>\n",
       "      <td>A Deshmukh</td>\n",
       "    </tr>\n",
       "  </tbody>\n",
       "</table>\n",
       "</div>"
      ],
      "text/plain": [
       "          id     city        date player_of_match  \\\n",
       "578  1082592     Pune  2017-04-06       SPD Smith   \n",
       "585  1082599     Pune  2017-04-11       SV Samson   \n",
       "601  1082615     Pune  2017-04-22        MS Dhoni   \n",
       "614  1082629     Pune  2017-05-01       BA Stokes   \n",
       "616  1082631  Kolkata  2017-05-03     RA Tripathi   \n",
       "630  1082645     Pune  2017-05-14      JD Unadkat   \n",
       "\n",
       "                                       venue  neutral_venue  \\\n",
       "578  Maharashtra Cricket Association Stadium              0   \n",
       "585  Maharashtra Cricket Association Stadium              0   \n",
       "601  Maharashtra Cricket Association Stadium              0   \n",
       "614  Maharashtra Cricket Association Stadium              0   \n",
       "616                             Eden Gardens              0   \n",
       "630  Maharashtra Cricket Association Stadium              0   \n",
       "\n",
       "                      team1                   team2             toss_winner  \\\n",
       "578  Rising Pune Supergiant          Mumbai Indians  Rising Pune Supergiant   \n",
       "585  Rising Pune Supergiant        Delhi Daredevils  Rising Pune Supergiant   \n",
       "601  Rising Pune Supergiant     Sunrisers Hyderabad  Rising Pune Supergiant   \n",
       "614  Rising Pune Supergiant           Gujarat Lions  Rising Pune Supergiant   \n",
       "616   Kolkata Knight Riders  Rising Pune Supergiant  Rising Pune Supergiant   \n",
       "630  Rising Pune Supergiant         Kings XI Punjab  Rising Pune Supergiant   \n",
       "\n",
       "    toss_decision                  winner   result  result_margin eliminator  \\\n",
       "578         field  Rising Pune Supergiant  wickets            7.0          N   \n",
       "585         field        Delhi Daredevils     runs           97.0          N   \n",
       "601         field  Rising Pune Supergiant  wickets            6.0          N   \n",
       "614         field  Rising Pune Supergiant  wickets            5.0          N   \n",
       "616         field  Rising Pune Supergiant  wickets            4.0          N   \n",
       "630         field  Rising Pune Supergiant  wickets            9.0          N   \n",
       "\n",
       "    method                umpire1         umpire2  \n",
       "578    NaN         A Nand Kishore          S Ravi  \n",
       "585    NaN            AY Dandekar          S Ravi  \n",
       "601    NaN            AY Dandekar      A Deshmukh  \n",
       "614    NaN              M Erasmus   C Shamshuddin  \n",
       "616    NaN  KN Ananthapadmanabhan  A Nand Kishore  \n",
       "630    NaN            AY Dandekar      A Deshmukh  "
      ]
     },
     "execution_count": 15,
     "metadata": {},
     "output_type": "execute_result"
    }
   ],
   "source": [
    "ipl_matches[ipl_matches.toss_winner=='Rising Pune Supergiant']"
   ]
  },
  {
   "cell_type": "markdown",
   "metadata": {},
   "source": [
    "We can now see that the name is also wrong in team1, team2 and winner column, so lets correct the values."
   ]
  },
  {
   "cell_type": "code",
   "execution_count": 16,
   "metadata": {},
   "outputs": [],
   "source": [
    "#by using replace method we can change values within a cloumn\n",
    "ipl_matches[\"toss_winner\"].replace({'Rising Pune Supergiant':'Rising Pune Supergiants'},inplace=True)\n",
    "ipl_matches[\"team1\"].replace({'Rising Pune Supergiant':'Rising Pune Supergiants'},inplace=True)\n",
    "ipl_matches[\"team2\"].replace({'Rising Pune Supergiant':'Rising Pune Supergiants'},inplace=True)\n",
    "ipl_matches[\"winner\"].replace({'Rising Pune Supergiant':'Rising Pune Supergiants'},inplace=True)"
   ]
  },
  {
   "cell_type": "code",
   "execution_count": 17,
   "metadata": {},
   "outputs": [
    {
     "data": {
      "text/plain": [
       "Mumbai Indians                 106\n",
       "Kolkata Knight Riders           98\n",
       "Chennai Super Kings             97\n",
       "Royal Challengers Bangalore     87\n",
       "Rajasthan Royals                87\n",
       "Kings XI Punjab                 85\n",
       "Delhi Daredevils                80\n",
       "Sunrisers Hyderabad             57\n",
       "Deccan Chargers                 43\n",
       "Delhi Capitals                  20\n",
       "Pune Warriors                   20\n",
       "Gujarat Lions                   15\n",
       "Rising Pune Supergiants         13\n",
       "Kochi Tuskers Kerala             8\n",
       "Name: toss_winner, dtype: int64"
      ]
     },
     "execution_count": 17,
     "metadata": {},
     "output_type": "execute_result"
    }
   ],
   "source": [
    "ipl_matches.toss_winner.value_counts()"
   ]
  },
  {
   "cell_type": "markdown",
   "metadata": {},
   "source": [
    "Now we can see that the name is corrected."
   ]
  },
  {
   "cell_type": "markdown",
   "metadata": {},
   "source": [
    "##### Now lets load another data set for more insights."
   ]
  },
  {
   "cell_type": "code",
   "execution_count": 18,
   "metadata": {},
   "outputs": [],
   "source": [
    "ball_by_ball = pd.read_csv('./ipl-complete-dataset-20082020/IPL Ball-by-Ball 2008-2020.csv')"
   ]
  },
  {
   "cell_type": "code",
   "execution_count": 19,
   "metadata": {},
   "outputs": [
    {
     "data": {
      "text/html": [
       "<div>\n",
       "<style scoped>\n",
       "    .dataframe tbody tr th:only-of-type {\n",
       "        vertical-align: middle;\n",
       "    }\n",
       "\n",
       "    .dataframe tbody tr th {\n",
       "        vertical-align: top;\n",
       "    }\n",
       "\n",
       "    .dataframe thead th {\n",
       "        text-align: right;\n",
       "    }\n",
       "</style>\n",
       "<table border=\"1\" class=\"dataframe\">\n",
       "  <thead>\n",
       "    <tr style=\"text-align: right;\">\n",
       "      <th></th>\n",
       "      <th>id</th>\n",
       "      <th>inning</th>\n",
       "      <th>over</th>\n",
       "      <th>ball</th>\n",
       "      <th>batsman</th>\n",
       "      <th>non_striker</th>\n",
       "      <th>bowler</th>\n",
       "      <th>batsman_runs</th>\n",
       "      <th>extra_runs</th>\n",
       "      <th>total_runs</th>\n",
       "      <th>non_boundary</th>\n",
       "      <th>is_wicket</th>\n",
       "      <th>dismissal_kind</th>\n",
       "      <th>player_dismissed</th>\n",
       "      <th>fielder</th>\n",
       "      <th>extras_type</th>\n",
       "      <th>batting_team</th>\n",
       "      <th>bowling_team</th>\n",
       "    </tr>\n",
       "  </thead>\n",
       "  <tbody>\n",
       "    <tr>\n",
       "      <th>0</th>\n",
       "      <td>335982</td>\n",
       "      <td>1</td>\n",
       "      <td>6</td>\n",
       "      <td>5</td>\n",
       "      <td>RT Ponting</td>\n",
       "      <td>BB McCullum</td>\n",
       "      <td>AA Noffke</td>\n",
       "      <td>1</td>\n",
       "      <td>0</td>\n",
       "      <td>1</td>\n",
       "      <td>0</td>\n",
       "      <td>0</td>\n",
       "      <td>NaN</td>\n",
       "      <td>NaN</td>\n",
       "      <td>NaN</td>\n",
       "      <td>NaN</td>\n",
       "      <td>Kolkata Knight Riders</td>\n",
       "      <td>Royal Challengers Bangalore</td>\n",
       "    </tr>\n",
       "    <tr>\n",
       "      <th>1</th>\n",
       "      <td>335982</td>\n",
       "      <td>1</td>\n",
       "      <td>6</td>\n",
       "      <td>6</td>\n",
       "      <td>BB McCullum</td>\n",
       "      <td>RT Ponting</td>\n",
       "      <td>AA Noffke</td>\n",
       "      <td>1</td>\n",
       "      <td>0</td>\n",
       "      <td>1</td>\n",
       "      <td>0</td>\n",
       "      <td>0</td>\n",
       "      <td>NaN</td>\n",
       "      <td>NaN</td>\n",
       "      <td>NaN</td>\n",
       "      <td>NaN</td>\n",
       "      <td>Kolkata Knight Riders</td>\n",
       "      <td>Royal Challengers Bangalore</td>\n",
       "    </tr>\n",
       "    <tr>\n",
       "      <th>2</th>\n",
       "      <td>335982</td>\n",
       "      <td>1</td>\n",
       "      <td>7</td>\n",
       "      <td>1</td>\n",
       "      <td>BB McCullum</td>\n",
       "      <td>RT Ponting</td>\n",
       "      <td>Z Khan</td>\n",
       "      <td>0</td>\n",
       "      <td>0</td>\n",
       "      <td>0</td>\n",
       "      <td>0</td>\n",
       "      <td>0</td>\n",
       "      <td>NaN</td>\n",
       "      <td>NaN</td>\n",
       "      <td>NaN</td>\n",
       "      <td>NaN</td>\n",
       "      <td>Kolkata Knight Riders</td>\n",
       "      <td>Royal Challengers Bangalore</td>\n",
       "    </tr>\n",
       "    <tr>\n",
       "      <th>3</th>\n",
       "      <td>335982</td>\n",
       "      <td>1</td>\n",
       "      <td>7</td>\n",
       "      <td>2</td>\n",
       "      <td>BB McCullum</td>\n",
       "      <td>RT Ponting</td>\n",
       "      <td>Z Khan</td>\n",
       "      <td>1</td>\n",
       "      <td>0</td>\n",
       "      <td>1</td>\n",
       "      <td>0</td>\n",
       "      <td>0</td>\n",
       "      <td>NaN</td>\n",
       "      <td>NaN</td>\n",
       "      <td>NaN</td>\n",
       "      <td>NaN</td>\n",
       "      <td>Kolkata Knight Riders</td>\n",
       "      <td>Royal Challengers Bangalore</td>\n",
       "    </tr>\n",
       "    <tr>\n",
       "      <th>4</th>\n",
       "      <td>335982</td>\n",
       "      <td>1</td>\n",
       "      <td>7</td>\n",
       "      <td>3</td>\n",
       "      <td>RT Ponting</td>\n",
       "      <td>BB McCullum</td>\n",
       "      <td>Z Khan</td>\n",
       "      <td>1</td>\n",
       "      <td>0</td>\n",
       "      <td>1</td>\n",
       "      <td>0</td>\n",
       "      <td>0</td>\n",
       "      <td>NaN</td>\n",
       "      <td>NaN</td>\n",
       "      <td>NaN</td>\n",
       "      <td>NaN</td>\n",
       "      <td>Kolkata Knight Riders</td>\n",
       "      <td>Royal Challengers Bangalore</td>\n",
       "    </tr>\n",
       "  </tbody>\n",
       "</table>\n",
       "</div>"
      ],
      "text/plain": [
       "       id  inning  over  ball      batsman  non_striker     bowler  \\\n",
       "0  335982       1     6     5   RT Ponting  BB McCullum  AA Noffke   \n",
       "1  335982       1     6     6  BB McCullum   RT Ponting  AA Noffke   \n",
       "2  335982       1     7     1  BB McCullum   RT Ponting     Z Khan   \n",
       "3  335982       1     7     2  BB McCullum   RT Ponting     Z Khan   \n",
       "4  335982       1     7     3   RT Ponting  BB McCullum     Z Khan   \n",
       "\n",
       "   batsman_runs  extra_runs  total_runs  non_boundary  is_wicket  \\\n",
       "0             1           0           1             0          0   \n",
       "1             1           0           1             0          0   \n",
       "2             0           0           0             0          0   \n",
       "3             1           0           1             0          0   \n",
       "4             1           0           1             0          0   \n",
       "\n",
       "  dismissal_kind player_dismissed fielder extras_type           batting_team  \\\n",
       "0            NaN              NaN     NaN         NaN  Kolkata Knight Riders   \n",
       "1            NaN              NaN     NaN         NaN  Kolkata Knight Riders   \n",
       "2            NaN              NaN     NaN         NaN  Kolkata Knight Riders   \n",
       "3            NaN              NaN     NaN         NaN  Kolkata Knight Riders   \n",
       "4            NaN              NaN     NaN         NaN  Kolkata Knight Riders   \n",
       "\n",
       "                  bowling_team  \n",
       "0  Royal Challengers Bangalore  \n",
       "1  Royal Challengers Bangalore  \n",
       "2  Royal Challengers Bangalore  \n",
       "3  Royal Challengers Bangalore  \n",
       "4  Royal Challengers Bangalore  "
      ]
     },
     "execution_count": 19,
     "metadata": {},
     "output_type": "execute_result"
    }
   ],
   "source": [
    "ball_by_ball.head()"
   ]
  },
  {
   "cell_type": "markdown",
   "metadata": {},
   "source": [
    "In this data every match has been recorded in depth so lets analyze and them take some usefull insights from this."
   ]
  },
  {
   "cell_type": "code",
   "execution_count": 20,
   "metadata": {},
   "outputs": [
    {
     "data": {
      "text/plain": [
       "816"
      ]
     },
     "execution_count": 20,
     "metadata": {},
     "output_type": "execute_result"
    }
   ],
   "source": [
    "ball_by_ball.id.unique().shape[0]"
   ]
  },
  {
   "cell_type": "markdown",
   "metadata": {},
   "source": [
    "So the number of matches in the second data set is similar to first one so we can take some usefull insights from the second one and combine it with first one."
   ]
  },
  {
   "cell_type": "code",
   "execution_count": 21,
   "metadata": {},
   "outputs": [],
   "source": [
    "first_inning_runs=[]\n",
    "second_inning_runs=[]\n",
    "total_wickets=[]\n",
    "Id=[]\n",
    "sixes=[]\n",
    "fours=[]\n",
    "for i in ball_by_ball.id.unique():                                 #for loop to create a dataframe with every single match\n",
    "    df=ball_by_ball[ball_by_ball.id==i]                            #new dataframe with a single match\n",
    "    Id.append(i)                                                   #new list with every id\n",
    "    first_inning_runs.append(df[df.inning==1].total_runs.sum())    #new list with first inning run\n",
    "    second_inning_runs.append(df[df.inning==2].total_runs.sum())   #new list with second inning runs\n",
    "    total_wickets.append(df.is_wicket.sum())                       #new list with total wickets in a match\n",
    "    fours.append((df.batsman_runs==4).sum())                       #new list with total fours in a match\n",
    "    sixes.append((df.batsman_runs==6).sum())                       #new list with total sixes in a match\n",
    "    data={'id':Id,                                                 #creating a data dictionary with all the lists\n",
    "          'first_inning_runs':first_inning_runs,\n",
    "          'second_inning_runs':second_inning_runs,\n",
    "          'total_wickets':total_wickets,\n",
    "          'fours':fours,\n",
    "          'sixes':sixes}\n",
    "    \n",
    "df_new=pd.DataFrame(data)                                          #new df with all the columns we want\n"
   ]
  },
  {
   "cell_type": "code",
   "execution_count": 22,
   "metadata": {},
   "outputs": [
    {
     "data": {
      "text/html": [
       "<div>\n",
       "<style scoped>\n",
       "    .dataframe tbody tr th:only-of-type {\n",
       "        vertical-align: middle;\n",
       "    }\n",
       "\n",
       "    .dataframe tbody tr th {\n",
       "        vertical-align: top;\n",
       "    }\n",
       "\n",
       "    .dataframe thead th {\n",
       "        text-align: right;\n",
       "    }\n",
       "</style>\n",
       "<table border=\"1\" class=\"dataframe\">\n",
       "  <thead>\n",
       "    <tr style=\"text-align: right;\">\n",
       "      <th></th>\n",
       "      <th>id</th>\n",
       "      <th>first_inning_runs</th>\n",
       "      <th>second_inning_runs</th>\n",
       "      <th>total_wickets</th>\n",
       "      <th>fours</th>\n",
       "      <th>sixes</th>\n",
       "    </tr>\n",
       "  </thead>\n",
       "  <tbody>\n",
       "    <tr>\n",
       "      <th>0</th>\n",
       "      <td>335982</td>\n",
       "      <td>222</td>\n",
       "      <td>82</td>\n",
       "      <td>13</td>\n",
       "      <td>18</td>\n",
       "      <td>17</td>\n",
       "    </tr>\n",
       "    <tr>\n",
       "      <th>1</th>\n",
       "      <td>335983</td>\n",
       "      <td>240</td>\n",
       "      <td>207</td>\n",
       "      <td>9</td>\n",
       "      <td>38</td>\n",
       "      <td>25</td>\n",
       "    </tr>\n",
       "    <tr>\n",
       "      <th>2</th>\n",
       "      <td>335984</td>\n",
       "      <td>129</td>\n",
       "      <td>132</td>\n",
       "      <td>9</td>\n",
       "      <td>32</td>\n",
       "      <td>4</td>\n",
       "    </tr>\n",
       "    <tr>\n",
       "      <th>3</th>\n",
       "      <td>335985</td>\n",
       "      <td>165</td>\n",
       "      <td>166</td>\n",
       "      <td>12</td>\n",
       "      <td>33</td>\n",
       "      <td>11</td>\n",
       "    </tr>\n",
       "    <tr>\n",
       "      <th>4</th>\n",
       "      <td>335986</td>\n",
       "      <td>110</td>\n",
       "      <td>112</td>\n",
       "      <td>15</td>\n",
       "      <td>11</td>\n",
       "      <td>10</td>\n",
       "    </tr>\n",
       "    <tr>\n",
       "      <th>...</th>\n",
       "      <td>...</td>\n",
       "      <td>...</td>\n",
       "      <td>...</td>\n",
       "      <td>...</td>\n",
       "      <td>...</td>\n",
       "      <td>...</td>\n",
       "    </tr>\n",
       "    <tr>\n",
       "      <th>811</th>\n",
       "      <td>1216547</td>\n",
       "      <td>201</td>\n",
       "      <td>201</td>\n",
       "      <td>8</td>\n",
       "      <td>23</td>\n",
       "      <td>26</td>\n",
       "    </tr>\n",
       "    <tr>\n",
       "      <th>812</th>\n",
       "      <td>1237177</td>\n",
       "      <td>200</td>\n",
       "      <td>143</td>\n",
       "      <td>13</td>\n",
       "      <td>28</td>\n",
       "      <td>18</td>\n",
       "    </tr>\n",
       "    <tr>\n",
       "      <th>813</th>\n",
       "      <td>1237178</td>\n",
       "      <td>131</td>\n",
       "      <td>132</td>\n",
       "      <td>11</td>\n",
       "      <td>21</td>\n",
       "      <td>4</td>\n",
       "    </tr>\n",
       "    <tr>\n",
       "      <th>814</th>\n",
       "      <td>1237180</td>\n",
       "      <td>189</td>\n",
       "      <td>172</td>\n",
       "      <td>11</td>\n",
       "      <td>28</td>\n",
       "      <td>14</td>\n",
       "    </tr>\n",
       "    <tr>\n",
       "      <th>815</th>\n",
       "      <td>1237181</td>\n",
       "      <td>156</td>\n",
       "      <td>157</td>\n",
       "      <td>12</td>\n",
       "      <td>29</td>\n",
       "      <td>11</td>\n",
       "    </tr>\n",
       "  </tbody>\n",
       "</table>\n",
       "<p>816 rows × 6 columns</p>\n",
       "</div>"
      ],
      "text/plain": [
       "          id  first_inning_runs  second_inning_runs  total_wickets  fours  \\\n",
       "0     335982                222                  82             13     18   \n",
       "1     335983                240                 207              9     38   \n",
       "2     335984                129                 132              9     32   \n",
       "3     335985                165                 166             12     33   \n",
       "4     335986                110                 112             15     11   \n",
       "..       ...                ...                 ...            ...    ...   \n",
       "811  1216547                201                 201              8     23   \n",
       "812  1237177                200                 143             13     28   \n",
       "813  1237178                131                 132             11     21   \n",
       "814  1237180                189                 172             11     28   \n",
       "815  1237181                156                 157             12     29   \n",
       "\n",
       "     sixes  \n",
       "0       17  \n",
       "1       25  \n",
       "2        4  \n",
       "3       11  \n",
       "4       10  \n",
       "..     ...  \n",
       "811     26  \n",
       "812     18  \n",
       "813      4  \n",
       "814     14  \n",
       "815     11  \n",
       "\n",
       "[816 rows x 6 columns]"
      ]
     },
     "execution_count": 22,
     "metadata": {},
     "output_type": "execute_result"
    }
   ],
   "source": [
    "#new data frame with the calculated parameters\n",
    "df_new"
   ]
  },
  {
   "cell_type": "code",
   "execution_count": 23,
   "metadata": {},
   "outputs": [],
   "source": [
    "merged_df= ipl_matches.merge(df_new,on=\"id\")"
   ]
  },
  {
   "cell_type": "code",
   "execution_count": 24,
   "metadata": {},
   "outputs": [
    {
     "data": {
      "text/html": [
       "<div>\n",
       "<style scoped>\n",
       "    .dataframe tbody tr th:only-of-type {\n",
       "        vertical-align: middle;\n",
       "    }\n",
       "\n",
       "    .dataframe tbody tr th {\n",
       "        vertical-align: top;\n",
       "    }\n",
       "\n",
       "    .dataframe thead th {\n",
       "        text-align: right;\n",
       "    }\n",
       "</style>\n",
       "<table border=\"1\" class=\"dataframe\">\n",
       "  <thead>\n",
       "    <tr style=\"text-align: right;\">\n",
       "      <th></th>\n",
       "      <th>id</th>\n",
       "      <th>city</th>\n",
       "      <th>date</th>\n",
       "      <th>player_of_match</th>\n",
       "      <th>venue</th>\n",
       "      <th>neutral_venue</th>\n",
       "      <th>team1</th>\n",
       "      <th>team2</th>\n",
       "      <th>toss_winner</th>\n",
       "      <th>toss_decision</th>\n",
       "      <th>...</th>\n",
       "      <th>result_margin</th>\n",
       "      <th>eliminator</th>\n",
       "      <th>method</th>\n",
       "      <th>umpire1</th>\n",
       "      <th>umpire2</th>\n",
       "      <th>first_inning_runs</th>\n",
       "      <th>second_inning_runs</th>\n",
       "      <th>total_wickets</th>\n",
       "      <th>fours</th>\n",
       "      <th>sixes</th>\n",
       "    </tr>\n",
       "  </thead>\n",
       "  <tbody>\n",
       "    <tr>\n",
       "      <th>0</th>\n",
       "      <td>335982</td>\n",
       "      <td>Bangalore</td>\n",
       "      <td>2008-04-18</td>\n",
       "      <td>BB McCullum</td>\n",
       "      <td>M Chinnaswamy Stadium</td>\n",
       "      <td>0</td>\n",
       "      <td>Royal Challengers Bangalore</td>\n",
       "      <td>Kolkata Knight Riders</td>\n",
       "      <td>Royal Challengers Bangalore</td>\n",
       "      <td>field</td>\n",
       "      <td>...</td>\n",
       "      <td>140.0</td>\n",
       "      <td>N</td>\n",
       "      <td>NaN</td>\n",
       "      <td>Asad Rauf</td>\n",
       "      <td>RE Koertzen</td>\n",
       "      <td>222</td>\n",
       "      <td>82</td>\n",
       "      <td>13</td>\n",
       "      <td>18</td>\n",
       "      <td>17</td>\n",
       "    </tr>\n",
       "    <tr>\n",
       "      <th>1</th>\n",
       "      <td>335983</td>\n",
       "      <td>Chandigarh</td>\n",
       "      <td>2008-04-19</td>\n",
       "      <td>MEK Hussey</td>\n",
       "      <td>Punjab Cricket Association Stadium, Mohali</td>\n",
       "      <td>0</td>\n",
       "      <td>Kings XI Punjab</td>\n",
       "      <td>Chennai Super Kings</td>\n",
       "      <td>Chennai Super Kings</td>\n",
       "      <td>bat</td>\n",
       "      <td>...</td>\n",
       "      <td>33.0</td>\n",
       "      <td>N</td>\n",
       "      <td>NaN</td>\n",
       "      <td>MR Benson</td>\n",
       "      <td>SL Shastri</td>\n",
       "      <td>240</td>\n",
       "      <td>207</td>\n",
       "      <td>9</td>\n",
       "      <td>38</td>\n",
       "      <td>25</td>\n",
       "    </tr>\n",
       "    <tr>\n",
       "      <th>2</th>\n",
       "      <td>335984</td>\n",
       "      <td>Delhi</td>\n",
       "      <td>2008-04-19</td>\n",
       "      <td>MF Maharoof</td>\n",
       "      <td>Feroz Shah Kotla</td>\n",
       "      <td>0</td>\n",
       "      <td>Delhi Daredevils</td>\n",
       "      <td>Rajasthan Royals</td>\n",
       "      <td>Rajasthan Royals</td>\n",
       "      <td>bat</td>\n",
       "      <td>...</td>\n",
       "      <td>9.0</td>\n",
       "      <td>N</td>\n",
       "      <td>NaN</td>\n",
       "      <td>Aleem Dar</td>\n",
       "      <td>GA Pratapkumar</td>\n",
       "      <td>129</td>\n",
       "      <td>132</td>\n",
       "      <td>9</td>\n",
       "      <td>32</td>\n",
       "      <td>4</td>\n",
       "    </tr>\n",
       "    <tr>\n",
       "      <th>3</th>\n",
       "      <td>335985</td>\n",
       "      <td>Mumbai</td>\n",
       "      <td>2008-04-20</td>\n",
       "      <td>MV Boucher</td>\n",
       "      <td>Wankhede Stadium</td>\n",
       "      <td>0</td>\n",
       "      <td>Mumbai Indians</td>\n",
       "      <td>Royal Challengers Bangalore</td>\n",
       "      <td>Mumbai Indians</td>\n",
       "      <td>bat</td>\n",
       "      <td>...</td>\n",
       "      <td>5.0</td>\n",
       "      <td>N</td>\n",
       "      <td>NaN</td>\n",
       "      <td>SJ Davis</td>\n",
       "      <td>DJ Harper</td>\n",
       "      <td>165</td>\n",
       "      <td>166</td>\n",
       "      <td>12</td>\n",
       "      <td>33</td>\n",
       "      <td>11</td>\n",
       "    </tr>\n",
       "    <tr>\n",
       "      <th>4</th>\n",
       "      <td>335986</td>\n",
       "      <td>Kolkata</td>\n",
       "      <td>2008-04-20</td>\n",
       "      <td>DJ Hussey</td>\n",
       "      <td>Eden Gardens</td>\n",
       "      <td>0</td>\n",
       "      <td>Kolkata Knight Riders</td>\n",
       "      <td>Deccan Chargers</td>\n",
       "      <td>Deccan Chargers</td>\n",
       "      <td>bat</td>\n",
       "      <td>...</td>\n",
       "      <td>5.0</td>\n",
       "      <td>N</td>\n",
       "      <td>NaN</td>\n",
       "      <td>BF Bowden</td>\n",
       "      <td>K Hariharan</td>\n",
       "      <td>110</td>\n",
       "      <td>112</td>\n",
       "      <td>15</td>\n",
       "      <td>11</td>\n",
       "      <td>10</td>\n",
       "    </tr>\n",
       "    <tr>\n",
       "      <th>...</th>\n",
       "      <td>...</td>\n",
       "      <td>...</td>\n",
       "      <td>...</td>\n",
       "      <td>...</td>\n",
       "      <td>...</td>\n",
       "      <td>...</td>\n",
       "      <td>...</td>\n",
       "      <td>...</td>\n",
       "      <td>...</td>\n",
       "      <td>...</td>\n",
       "      <td>...</td>\n",
       "      <td>...</td>\n",
       "      <td>...</td>\n",
       "      <td>...</td>\n",
       "      <td>...</td>\n",
       "      <td>...</td>\n",
       "      <td>...</td>\n",
       "      <td>...</td>\n",
       "      <td>...</td>\n",
       "      <td>...</td>\n",
       "      <td>...</td>\n",
       "    </tr>\n",
       "    <tr>\n",
       "      <th>811</th>\n",
       "      <td>1216547</td>\n",
       "      <td>Dubai</td>\n",
       "      <td>2020-09-28</td>\n",
       "      <td>AB de Villiers</td>\n",
       "      <td>Dubai International Cricket Stadium</td>\n",
       "      <td>0</td>\n",
       "      <td>Royal Challengers Bangalore</td>\n",
       "      <td>Mumbai Indians</td>\n",
       "      <td>Mumbai Indians</td>\n",
       "      <td>field</td>\n",
       "      <td>...</td>\n",
       "      <td>NaN</td>\n",
       "      <td>Y</td>\n",
       "      <td>NaN</td>\n",
       "      <td>Nitin Menon</td>\n",
       "      <td>PR Reiffel</td>\n",
       "      <td>201</td>\n",
       "      <td>201</td>\n",
       "      <td>8</td>\n",
       "      <td>23</td>\n",
       "      <td>26</td>\n",
       "    </tr>\n",
       "    <tr>\n",
       "      <th>812</th>\n",
       "      <td>1237177</td>\n",
       "      <td>Dubai</td>\n",
       "      <td>2020-11-05</td>\n",
       "      <td>JJ Bumrah</td>\n",
       "      <td>Dubai International Cricket Stadium</td>\n",
       "      <td>0</td>\n",
       "      <td>Mumbai Indians</td>\n",
       "      <td>Delhi Capitals</td>\n",
       "      <td>Delhi Capitals</td>\n",
       "      <td>field</td>\n",
       "      <td>...</td>\n",
       "      <td>57.0</td>\n",
       "      <td>N</td>\n",
       "      <td>NaN</td>\n",
       "      <td>CB Gaffaney</td>\n",
       "      <td>Nitin Menon</td>\n",
       "      <td>200</td>\n",
       "      <td>143</td>\n",
       "      <td>13</td>\n",
       "      <td>28</td>\n",
       "      <td>18</td>\n",
       "    </tr>\n",
       "    <tr>\n",
       "      <th>813</th>\n",
       "      <td>1237178</td>\n",
       "      <td>Abu Dhabi</td>\n",
       "      <td>2020-11-06</td>\n",
       "      <td>KS Williamson</td>\n",
       "      <td>Sheikh Zayed Stadium</td>\n",
       "      <td>0</td>\n",
       "      <td>Royal Challengers Bangalore</td>\n",
       "      <td>Sunrisers Hyderabad</td>\n",
       "      <td>Sunrisers Hyderabad</td>\n",
       "      <td>field</td>\n",
       "      <td>...</td>\n",
       "      <td>6.0</td>\n",
       "      <td>N</td>\n",
       "      <td>NaN</td>\n",
       "      <td>PR Reiffel</td>\n",
       "      <td>S Ravi</td>\n",
       "      <td>131</td>\n",
       "      <td>132</td>\n",
       "      <td>11</td>\n",
       "      <td>21</td>\n",
       "      <td>4</td>\n",
       "    </tr>\n",
       "    <tr>\n",
       "      <th>814</th>\n",
       "      <td>1237180</td>\n",
       "      <td>Abu Dhabi</td>\n",
       "      <td>2020-11-08</td>\n",
       "      <td>MP Stoinis</td>\n",
       "      <td>Sheikh Zayed Stadium</td>\n",
       "      <td>0</td>\n",
       "      <td>Delhi Capitals</td>\n",
       "      <td>Sunrisers Hyderabad</td>\n",
       "      <td>Delhi Capitals</td>\n",
       "      <td>bat</td>\n",
       "      <td>...</td>\n",
       "      <td>17.0</td>\n",
       "      <td>N</td>\n",
       "      <td>NaN</td>\n",
       "      <td>PR Reiffel</td>\n",
       "      <td>S Ravi</td>\n",
       "      <td>189</td>\n",
       "      <td>172</td>\n",
       "      <td>11</td>\n",
       "      <td>28</td>\n",
       "      <td>14</td>\n",
       "    </tr>\n",
       "    <tr>\n",
       "      <th>815</th>\n",
       "      <td>1237181</td>\n",
       "      <td>Dubai</td>\n",
       "      <td>2020-11-10</td>\n",
       "      <td>TA Boult</td>\n",
       "      <td>Dubai International Cricket Stadium</td>\n",
       "      <td>0</td>\n",
       "      <td>Delhi Capitals</td>\n",
       "      <td>Mumbai Indians</td>\n",
       "      <td>Delhi Capitals</td>\n",
       "      <td>bat</td>\n",
       "      <td>...</td>\n",
       "      <td>5.0</td>\n",
       "      <td>N</td>\n",
       "      <td>NaN</td>\n",
       "      <td>CB Gaffaney</td>\n",
       "      <td>Nitin Menon</td>\n",
       "      <td>156</td>\n",
       "      <td>157</td>\n",
       "      <td>12</td>\n",
       "      <td>29</td>\n",
       "      <td>11</td>\n",
       "    </tr>\n",
       "  </tbody>\n",
       "</table>\n",
       "<p>816 rows × 22 columns</p>\n",
       "</div>"
      ],
      "text/plain": [
       "          id        city        date player_of_match  \\\n",
       "0     335982   Bangalore  2008-04-18     BB McCullum   \n",
       "1     335983  Chandigarh  2008-04-19      MEK Hussey   \n",
       "2     335984       Delhi  2008-04-19     MF Maharoof   \n",
       "3     335985      Mumbai  2008-04-20      MV Boucher   \n",
       "4     335986     Kolkata  2008-04-20       DJ Hussey   \n",
       "..       ...         ...         ...             ...   \n",
       "811  1216547       Dubai  2020-09-28  AB de Villiers   \n",
       "812  1237177       Dubai  2020-11-05       JJ Bumrah   \n",
       "813  1237178   Abu Dhabi  2020-11-06   KS Williamson   \n",
       "814  1237180   Abu Dhabi  2020-11-08      MP Stoinis   \n",
       "815  1237181       Dubai  2020-11-10        TA Boult   \n",
       "\n",
       "                                          venue  neutral_venue  \\\n",
       "0                         M Chinnaswamy Stadium              0   \n",
       "1    Punjab Cricket Association Stadium, Mohali              0   \n",
       "2                              Feroz Shah Kotla              0   \n",
       "3                              Wankhede Stadium              0   \n",
       "4                                  Eden Gardens              0   \n",
       "..                                          ...            ...   \n",
       "811         Dubai International Cricket Stadium              0   \n",
       "812         Dubai International Cricket Stadium              0   \n",
       "813                        Sheikh Zayed Stadium              0   \n",
       "814                        Sheikh Zayed Stadium              0   \n",
       "815         Dubai International Cricket Stadium              0   \n",
       "\n",
       "                           team1                        team2  \\\n",
       "0    Royal Challengers Bangalore        Kolkata Knight Riders   \n",
       "1                Kings XI Punjab          Chennai Super Kings   \n",
       "2               Delhi Daredevils             Rajasthan Royals   \n",
       "3                 Mumbai Indians  Royal Challengers Bangalore   \n",
       "4          Kolkata Knight Riders              Deccan Chargers   \n",
       "..                           ...                          ...   \n",
       "811  Royal Challengers Bangalore               Mumbai Indians   \n",
       "812               Mumbai Indians               Delhi Capitals   \n",
       "813  Royal Challengers Bangalore          Sunrisers Hyderabad   \n",
       "814               Delhi Capitals          Sunrisers Hyderabad   \n",
       "815               Delhi Capitals               Mumbai Indians   \n",
       "\n",
       "                     toss_winner toss_decision  ... result_margin eliminator  \\\n",
       "0    Royal Challengers Bangalore         field  ...         140.0          N   \n",
       "1            Chennai Super Kings           bat  ...          33.0          N   \n",
       "2               Rajasthan Royals           bat  ...           9.0          N   \n",
       "3                 Mumbai Indians           bat  ...           5.0          N   \n",
       "4                Deccan Chargers           bat  ...           5.0          N   \n",
       "..                           ...           ...  ...           ...        ...   \n",
       "811               Mumbai Indians         field  ...           NaN          Y   \n",
       "812               Delhi Capitals         field  ...          57.0          N   \n",
       "813          Sunrisers Hyderabad         field  ...           6.0          N   \n",
       "814               Delhi Capitals           bat  ...          17.0          N   \n",
       "815               Delhi Capitals           bat  ...           5.0          N   \n",
       "\n",
       "     method      umpire1         umpire2 first_inning_runs second_inning_runs  \\\n",
       "0       NaN    Asad Rauf     RE Koertzen               222                 82   \n",
       "1       NaN    MR Benson      SL Shastri               240                207   \n",
       "2       NaN    Aleem Dar  GA Pratapkumar               129                132   \n",
       "3       NaN     SJ Davis       DJ Harper               165                166   \n",
       "4       NaN    BF Bowden     K Hariharan               110                112   \n",
       "..      ...          ...             ...               ...                ...   \n",
       "811     NaN  Nitin Menon      PR Reiffel               201                201   \n",
       "812     NaN  CB Gaffaney     Nitin Menon               200                143   \n",
       "813     NaN   PR Reiffel          S Ravi               131                132   \n",
       "814     NaN   PR Reiffel          S Ravi               189                172   \n",
       "815     NaN  CB Gaffaney     Nitin Menon               156                157   \n",
       "\n",
       "     total_wickets  fours  sixes  \n",
       "0               13     18     17  \n",
       "1                9     38     25  \n",
       "2                9     32      4  \n",
       "3               12     33     11  \n",
       "4               15     11     10  \n",
       "..             ...    ...    ...  \n",
       "811              8     23     26  \n",
       "812             13     28     18  \n",
       "813             11     21      4  \n",
       "814             11     28     14  \n",
       "815             12     29     11  \n",
       "\n",
       "[816 rows x 22 columns]"
      ]
     },
     "execution_count": 24,
     "metadata": {},
     "output_type": "execute_result"
    }
   ],
   "source": [
    "merged_df"
   ]
  },
  {
   "cell_type": "code",
   "execution_count": 25,
   "metadata": {},
   "outputs": [
    {
     "data": {
      "text/plain": [
       "Index(['id', 'city', 'date', 'player_of_match', 'venue', 'neutral_venue',\n",
       "       'team1', 'team2', 'toss_winner', 'toss_decision', 'winner', 'result',\n",
       "       'result_margin', 'eliminator', 'method', 'umpire1', 'umpire2',\n",
       "       'first_inning_runs', 'second_inning_runs', 'total_wickets', 'fours',\n",
       "       'sixes'],\n",
       "      dtype='object')"
      ]
     },
     "execution_count": 25,
     "metadata": {},
     "output_type": "execute_result"
    }
   ],
   "source": [
    "merged_df.columns"
   ]
  },
  {
   "cell_type": "code",
   "execution_count": 26,
   "metadata": {},
   "outputs": [],
   "source": [
    "#droping unwanted columns\n",
    "final_df = merged_df.drop(['neutral_venue', 'method', 'eliminator', 'umpire1', 'umpire2'], axis=1)"
   ]
  },
  {
   "cell_type": "code",
   "execution_count": 27,
   "metadata": {
    "scrolled": true
   },
   "outputs": [
    {
     "data": {
      "text/html": [
       "<div>\n",
       "<style scoped>\n",
       "    .dataframe tbody tr th:only-of-type {\n",
       "        vertical-align: middle;\n",
       "    }\n",
       "\n",
       "    .dataframe tbody tr th {\n",
       "        vertical-align: top;\n",
       "    }\n",
       "\n",
       "    .dataframe thead th {\n",
       "        text-align: right;\n",
       "    }\n",
       "</style>\n",
       "<table border=\"1\" class=\"dataframe\">\n",
       "  <thead>\n",
       "    <tr style=\"text-align: right;\">\n",
       "      <th></th>\n",
       "      <th>id</th>\n",
       "      <th>city</th>\n",
       "      <th>date</th>\n",
       "      <th>player_of_match</th>\n",
       "      <th>venue</th>\n",
       "      <th>team1</th>\n",
       "      <th>team2</th>\n",
       "      <th>toss_winner</th>\n",
       "      <th>toss_decision</th>\n",
       "      <th>winner</th>\n",
       "      <th>result</th>\n",
       "      <th>result_margin</th>\n",
       "      <th>first_inning_runs</th>\n",
       "      <th>second_inning_runs</th>\n",
       "      <th>total_wickets</th>\n",
       "      <th>fours</th>\n",
       "      <th>sixes</th>\n",
       "    </tr>\n",
       "  </thead>\n",
       "  <tbody>\n",
       "    <tr>\n",
       "      <th>0</th>\n",
       "      <td>335982</td>\n",
       "      <td>Bangalore</td>\n",
       "      <td>2008-04-18</td>\n",
       "      <td>BB McCullum</td>\n",
       "      <td>M Chinnaswamy Stadium</td>\n",
       "      <td>Royal Challengers Bangalore</td>\n",
       "      <td>Kolkata Knight Riders</td>\n",
       "      <td>Royal Challengers Bangalore</td>\n",
       "      <td>field</td>\n",
       "      <td>Kolkata Knight Riders</td>\n",
       "      <td>runs</td>\n",
       "      <td>140.0</td>\n",
       "      <td>222</td>\n",
       "      <td>82</td>\n",
       "      <td>13</td>\n",
       "      <td>18</td>\n",
       "      <td>17</td>\n",
       "    </tr>\n",
       "    <tr>\n",
       "      <th>1</th>\n",
       "      <td>335983</td>\n",
       "      <td>Chandigarh</td>\n",
       "      <td>2008-04-19</td>\n",
       "      <td>MEK Hussey</td>\n",
       "      <td>Punjab Cricket Association Stadium, Mohali</td>\n",
       "      <td>Kings XI Punjab</td>\n",
       "      <td>Chennai Super Kings</td>\n",
       "      <td>Chennai Super Kings</td>\n",
       "      <td>bat</td>\n",
       "      <td>Chennai Super Kings</td>\n",
       "      <td>runs</td>\n",
       "      <td>33.0</td>\n",
       "      <td>240</td>\n",
       "      <td>207</td>\n",
       "      <td>9</td>\n",
       "      <td>38</td>\n",
       "      <td>25</td>\n",
       "    </tr>\n",
       "    <tr>\n",
       "      <th>2</th>\n",
       "      <td>335984</td>\n",
       "      <td>Delhi</td>\n",
       "      <td>2008-04-19</td>\n",
       "      <td>MF Maharoof</td>\n",
       "      <td>Feroz Shah Kotla</td>\n",
       "      <td>Delhi Daredevils</td>\n",
       "      <td>Rajasthan Royals</td>\n",
       "      <td>Rajasthan Royals</td>\n",
       "      <td>bat</td>\n",
       "      <td>Delhi Daredevils</td>\n",
       "      <td>wickets</td>\n",
       "      <td>9.0</td>\n",
       "      <td>129</td>\n",
       "      <td>132</td>\n",
       "      <td>9</td>\n",
       "      <td>32</td>\n",
       "      <td>4</td>\n",
       "    </tr>\n",
       "    <tr>\n",
       "      <th>3</th>\n",
       "      <td>335985</td>\n",
       "      <td>Mumbai</td>\n",
       "      <td>2008-04-20</td>\n",
       "      <td>MV Boucher</td>\n",
       "      <td>Wankhede Stadium</td>\n",
       "      <td>Mumbai Indians</td>\n",
       "      <td>Royal Challengers Bangalore</td>\n",
       "      <td>Mumbai Indians</td>\n",
       "      <td>bat</td>\n",
       "      <td>Royal Challengers Bangalore</td>\n",
       "      <td>wickets</td>\n",
       "      <td>5.0</td>\n",
       "      <td>165</td>\n",
       "      <td>166</td>\n",
       "      <td>12</td>\n",
       "      <td>33</td>\n",
       "      <td>11</td>\n",
       "    </tr>\n",
       "    <tr>\n",
       "      <th>4</th>\n",
       "      <td>335986</td>\n",
       "      <td>Kolkata</td>\n",
       "      <td>2008-04-20</td>\n",
       "      <td>DJ Hussey</td>\n",
       "      <td>Eden Gardens</td>\n",
       "      <td>Kolkata Knight Riders</td>\n",
       "      <td>Deccan Chargers</td>\n",
       "      <td>Deccan Chargers</td>\n",
       "      <td>bat</td>\n",
       "      <td>Kolkata Knight Riders</td>\n",
       "      <td>wickets</td>\n",
       "      <td>5.0</td>\n",
       "      <td>110</td>\n",
       "      <td>112</td>\n",
       "      <td>15</td>\n",
       "      <td>11</td>\n",
       "      <td>10</td>\n",
       "    </tr>\n",
       "    <tr>\n",
       "      <th>...</th>\n",
       "      <td>...</td>\n",
       "      <td>...</td>\n",
       "      <td>...</td>\n",
       "      <td>...</td>\n",
       "      <td>...</td>\n",
       "      <td>...</td>\n",
       "      <td>...</td>\n",
       "      <td>...</td>\n",
       "      <td>...</td>\n",
       "      <td>...</td>\n",
       "      <td>...</td>\n",
       "      <td>...</td>\n",
       "      <td>...</td>\n",
       "      <td>...</td>\n",
       "      <td>...</td>\n",
       "      <td>...</td>\n",
       "      <td>...</td>\n",
       "    </tr>\n",
       "    <tr>\n",
       "      <th>811</th>\n",
       "      <td>1216547</td>\n",
       "      <td>Dubai</td>\n",
       "      <td>2020-09-28</td>\n",
       "      <td>AB de Villiers</td>\n",
       "      <td>Dubai International Cricket Stadium</td>\n",
       "      <td>Royal Challengers Bangalore</td>\n",
       "      <td>Mumbai Indians</td>\n",
       "      <td>Mumbai Indians</td>\n",
       "      <td>field</td>\n",
       "      <td>Royal Challengers Bangalore</td>\n",
       "      <td>tie</td>\n",
       "      <td>NaN</td>\n",
       "      <td>201</td>\n",
       "      <td>201</td>\n",
       "      <td>8</td>\n",
       "      <td>23</td>\n",
       "      <td>26</td>\n",
       "    </tr>\n",
       "    <tr>\n",
       "      <th>812</th>\n",
       "      <td>1237177</td>\n",
       "      <td>Dubai</td>\n",
       "      <td>2020-11-05</td>\n",
       "      <td>JJ Bumrah</td>\n",
       "      <td>Dubai International Cricket Stadium</td>\n",
       "      <td>Mumbai Indians</td>\n",
       "      <td>Delhi Capitals</td>\n",
       "      <td>Delhi Capitals</td>\n",
       "      <td>field</td>\n",
       "      <td>Mumbai Indians</td>\n",
       "      <td>runs</td>\n",
       "      <td>57.0</td>\n",
       "      <td>200</td>\n",
       "      <td>143</td>\n",
       "      <td>13</td>\n",
       "      <td>28</td>\n",
       "      <td>18</td>\n",
       "    </tr>\n",
       "    <tr>\n",
       "      <th>813</th>\n",
       "      <td>1237178</td>\n",
       "      <td>Abu Dhabi</td>\n",
       "      <td>2020-11-06</td>\n",
       "      <td>KS Williamson</td>\n",
       "      <td>Sheikh Zayed Stadium</td>\n",
       "      <td>Royal Challengers Bangalore</td>\n",
       "      <td>Sunrisers Hyderabad</td>\n",
       "      <td>Sunrisers Hyderabad</td>\n",
       "      <td>field</td>\n",
       "      <td>Sunrisers Hyderabad</td>\n",
       "      <td>wickets</td>\n",
       "      <td>6.0</td>\n",
       "      <td>131</td>\n",
       "      <td>132</td>\n",
       "      <td>11</td>\n",
       "      <td>21</td>\n",
       "      <td>4</td>\n",
       "    </tr>\n",
       "    <tr>\n",
       "      <th>814</th>\n",
       "      <td>1237180</td>\n",
       "      <td>Abu Dhabi</td>\n",
       "      <td>2020-11-08</td>\n",
       "      <td>MP Stoinis</td>\n",
       "      <td>Sheikh Zayed Stadium</td>\n",
       "      <td>Delhi Capitals</td>\n",
       "      <td>Sunrisers Hyderabad</td>\n",
       "      <td>Delhi Capitals</td>\n",
       "      <td>bat</td>\n",
       "      <td>Delhi Capitals</td>\n",
       "      <td>runs</td>\n",
       "      <td>17.0</td>\n",
       "      <td>189</td>\n",
       "      <td>172</td>\n",
       "      <td>11</td>\n",
       "      <td>28</td>\n",
       "      <td>14</td>\n",
       "    </tr>\n",
       "    <tr>\n",
       "      <th>815</th>\n",
       "      <td>1237181</td>\n",
       "      <td>Dubai</td>\n",
       "      <td>2020-11-10</td>\n",
       "      <td>TA Boult</td>\n",
       "      <td>Dubai International Cricket Stadium</td>\n",
       "      <td>Delhi Capitals</td>\n",
       "      <td>Mumbai Indians</td>\n",
       "      <td>Delhi Capitals</td>\n",
       "      <td>bat</td>\n",
       "      <td>Mumbai Indians</td>\n",
       "      <td>wickets</td>\n",
       "      <td>5.0</td>\n",
       "      <td>156</td>\n",
       "      <td>157</td>\n",
       "      <td>12</td>\n",
       "      <td>29</td>\n",
       "      <td>11</td>\n",
       "    </tr>\n",
       "  </tbody>\n",
       "</table>\n",
       "<p>816 rows × 17 columns</p>\n",
       "</div>"
      ],
      "text/plain": [
       "          id        city        date player_of_match  \\\n",
       "0     335982   Bangalore  2008-04-18     BB McCullum   \n",
       "1     335983  Chandigarh  2008-04-19      MEK Hussey   \n",
       "2     335984       Delhi  2008-04-19     MF Maharoof   \n",
       "3     335985      Mumbai  2008-04-20      MV Boucher   \n",
       "4     335986     Kolkata  2008-04-20       DJ Hussey   \n",
       "..       ...         ...         ...             ...   \n",
       "811  1216547       Dubai  2020-09-28  AB de Villiers   \n",
       "812  1237177       Dubai  2020-11-05       JJ Bumrah   \n",
       "813  1237178   Abu Dhabi  2020-11-06   KS Williamson   \n",
       "814  1237180   Abu Dhabi  2020-11-08      MP Stoinis   \n",
       "815  1237181       Dubai  2020-11-10        TA Boult   \n",
       "\n",
       "                                          venue                        team1  \\\n",
       "0                         M Chinnaswamy Stadium  Royal Challengers Bangalore   \n",
       "1    Punjab Cricket Association Stadium, Mohali              Kings XI Punjab   \n",
       "2                              Feroz Shah Kotla             Delhi Daredevils   \n",
       "3                              Wankhede Stadium               Mumbai Indians   \n",
       "4                                  Eden Gardens        Kolkata Knight Riders   \n",
       "..                                          ...                          ...   \n",
       "811         Dubai International Cricket Stadium  Royal Challengers Bangalore   \n",
       "812         Dubai International Cricket Stadium               Mumbai Indians   \n",
       "813                        Sheikh Zayed Stadium  Royal Challengers Bangalore   \n",
       "814                        Sheikh Zayed Stadium               Delhi Capitals   \n",
       "815         Dubai International Cricket Stadium               Delhi Capitals   \n",
       "\n",
       "                           team2                  toss_winner toss_decision  \\\n",
       "0          Kolkata Knight Riders  Royal Challengers Bangalore         field   \n",
       "1            Chennai Super Kings          Chennai Super Kings           bat   \n",
       "2               Rajasthan Royals             Rajasthan Royals           bat   \n",
       "3    Royal Challengers Bangalore               Mumbai Indians           bat   \n",
       "4                Deccan Chargers              Deccan Chargers           bat   \n",
       "..                           ...                          ...           ...   \n",
       "811               Mumbai Indians               Mumbai Indians         field   \n",
       "812               Delhi Capitals               Delhi Capitals         field   \n",
       "813          Sunrisers Hyderabad          Sunrisers Hyderabad         field   \n",
       "814          Sunrisers Hyderabad               Delhi Capitals           bat   \n",
       "815               Mumbai Indians               Delhi Capitals           bat   \n",
       "\n",
       "                          winner   result  result_margin  first_inning_runs  \\\n",
       "0          Kolkata Knight Riders     runs          140.0                222   \n",
       "1            Chennai Super Kings     runs           33.0                240   \n",
       "2               Delhi Daredevils  wickets            9.0                129   \n",
       "3    Royal Challengers Bangalore  wickets            5.0                165   \n",
       "4          Kolkata Knight Riders  wickets            5.0                110   \n",
       "..                           ...      ...            ...                ...   \n",
       "811  Royal Challengers Bangalore      tie            NaN                201   \n",
       "812               Mumbai Indians     runs           57.0                200   \n",
       "813          Sunrisers Hyderabad  wickets            6.0                131   \n",
       "814               Delhi Capitals     runs           17.0                189   \n",
       "815               Mumbai Indians  wickets            5.0                156   \n",
       "\n",
       "     second_inning_runs  total_wickets  fours  sixes  \n",
       "0                    82             13     18     17  \n",
       "1                   207              9     38     25  \n",
       "2                   132              9     32      4  \n",
       "3                   166             12     33     11  \n",
       "4                   112             15     11     10  \n",
       "..                  ...            ...    ...    ...  \n",
       "811                 201              8     23     26  \n",
       "812                 143             13     28     18  \n",
       "813                 132             11     21      4  \n",
       "814                 172             11     28     14  \n",
       "815                 157             12     29     11  \n",
       "\n",
       "[816 rows x 17 columns]"
      ]
     },
     "execution_count": 27,
     "metadata": {},
     "output_type": "execute_result"
    }
   ],
   "source": [
    "final_df"
   ]
  },
  {
   "cell_type": "code",
   "execution_count": 28,
   "metadata": {},
   "outputs": [
    {
     "name": "stdout",
     "output_type": "stream",
     "text": [
      "<class 'pandas.core.frame.DataFrame'>\n",
      "Int64Index: 816 entries, 0 to 815\n",
      "Data columns (total 17 columns):\n",
      " #   Column              Non-Null Count  Dtype  \n",
      "---  ------              --------------  -----  \n",
      " 0   id                  816 non-null    int64  \n",
      " 1   city                803 non-null    object \n",
      " 2   date                816 non-null    object \n",
      " 3   player_of_match     812 non-null    object \n",
      " 4   venue               816 non-null    object \n",
      " 5   team1               816 non-null    object \n",
      " 6   team2               816 non-null    object \n",
      " 7   toss_winner         816 non-null    object \n",
      " 8   toss_decision       816 non-null    object \n",
      " 9   winner              812 non-null    object \n",
      " 10  result              812 non-null    object \n",
      " 11  result_margin       799 non-null    float64\n",
      " 12  first_inning_runs   816 non-null    int64  \n",
      " 13  second_inning_runs  816 non-null    int64  \n",
      " 14  total_wickets       816 non-null    int64  \n",
      " 15  fours               816 non-null    int64  \n",
      " 16  sixes               816 non-null    int64  \n",
      "dtypes: float64(1), int64(6), object(10)\n",
      "memory usage: 114.8+ KB\n"
     ]
    }
   ],
   "source": [
    "final_df.info()"
   ]
  },
  {
   "cell_type": "code",
   "execution_count": 29,
   "metadata": {},
   "outputs": [
    {
     "data": {
      "text/html": [
       "<div>\n",
       "<style scoped>\n",
       "    .dataframe tbody tr th:only-of-type {\n",
       "        vertical-align: middle;\n",
       "    }\n",
       "\n",
       "    .dataframe tbody tr th {\n",
       "        vertical-align: top;\n",
       "    }\n",
       "\n",
       "    .dataframe thead th {\n",
       "        text-align: right;\n",
       "    }\n",
       "</style>\n",
       "<table border=\"1\" class=\"dataframe\">\n",
       "  <thead>\n",
       "    <tr style=\"text-align: right;\">\n",
       "      <th></th>\n",
       "      <th>id</th>\n",
       "      <th>result_margin</th>\n",
       "      <th>first_inning_runs</th>\n",
       "      <th>second_inning_runs</th>\n",
       "      <th>total_wickets</th>\n",
       "      <th>fours</th>\n",
       "      <th>sixes</th>\n",
       "    </tr>\n",
       "  </thead>\n",
       "  <tbody>\n",
       "    <tr>\n",
       "      <th>count</th>\n",
       "      <td>8.160000e+02</td>\n",
       "      <td>799.000000</td>\n",
       "      <td>816.000000</td>\n",
       "      <td>816.000000</td>\n",
       "      <td>816.000000</td>\n",
       "      <td>816.000000</td>\n",
       "      <td>816.000000</td>\n",
       "    </tr>\n",
       "    <tr>\n",
       "      <th>mean</th>\n",
       "      <td>7.563496e+05</td>\n",
       "      <td>17.321652</td>\n",
       "      <td>161.849265</td>\n",
       "      <td>147.947304</td>\n",
       "      <td>11.636029</td>\n",
       "      <td>26.848039</td>\n",
       "      <td>10.909314</td>\n",
       "    </tr>\n",
       "    <tr>\n",
       "      <th>std</th>\n",
       "      <td>3.058943e+05</td>\n",
       "      <td>22.068427</td>\n",
       "      <td>30.382883</td>\n",
       "      <td>31.571726</td>\n",
       "      <td>3.096188</td>\n",
       "      <td>6.736874</td>\n",
       "      <td>5.558091</td>\n",
       "    </tr>\n",
       "    <tr>\n",
       "      <th>min</th>\n",
       "      <td>3.359820e+05</td>\n",
       "      <td>1.000000</td>\n",
       "      <td>56.000000</td>\n",
       "      <td>0.000000</td>\n",
       "      <td>3.000000</td>\n",
       "      <td>3.000000</td>\n",
       "      <td>1.000000</td>\n",
       "    </tr>\n",
       "    <tr>\n",
       "      <th>25%</th>\n",
       "      <td>5.012278e+05</td>\n",
       "      <td>6.000000</td>\n",
       "      <td>143.000000</td>\n",
       "      <td>132.000000</td>\n",
       "      <td>9.750000</td>\n",
       "      <td>22.000000</td>\n",
       "      <td>7.000000</td>\n",
       "    </tr>\n",
       "    <tr>\n",
       "      <th>50%</th>\n",
       "      <td>7.292980e+05</td>\n",
       "      <td>8.000000</td>\n",
       "      <td>163.000000</td>\n",
       "      <td>150.000000</td>\n",
       "      <td>12.000000</td>\n",
       "      <td>27.000000</td>\n",
       "      <td>10.000000</td>\n",
       "    </tr>\n",
       "    <tr>\n",
       "      <th>75%</th>\n",
       "      <td>1.082626e+06</td>\n",
       "      <td>19.500000</td>\n",
       "      <td>182.000000</td>\n",
       "      <td>168.250000</td>\n",
       "      <td>14.000000</td>\n",
       "      <td>32.000000</td>\n",
       "      <td>14.000000</td>\n",
       "    </tr>\n",
       "    <tr>\n",
       "      <th>max</th>\n",
       "      <td>1.237181e+06</td>\n",
       "      <td>146.000000</td>\n",
       "      <td>263.000000</td>\n",
       "      <td>226.000000</td>\n",
       "      <td>20.000000</td>\n",
       "      <td>51.000000</td>\n",
       "      <td>33.000000</td>\n",
       "    </tr>\n",
       "  </tbody>\n",
       "</table>\n",
       "</div>"
      ],
      "text/plain": [
       "                 id  result_margin  first_inning_runs  second_inning_runs  \\\n",
       "count  8.160000e+02     799.000000         816.000000          816.000000   \n",
       "mean   7.563496e+05      17.321652         161.849265          147.947304   \n",
       "std    3.058943e+05      22.068427          30.382883           31.571726   \n",
       "min    3.359820e+05       1.000000          56.000000            0.000000   \n",
       "25%    5.012278e+05       6.000000         143.000000          132.000000   \n",
       "50%    7.292980e+05       8.000000         163.000000          150.000000   \n",
       "75%    1.082626e+06      19.500000         182.000000          168.250000   \n",
       "max    1.237181e+06     146.000000         263.000000          226.000000   \n",
       "\n",
       "       total_wickets       fours       sixes  \n",
       "count     816.000000  816.000000  816.000000  \n",
       "mean       11.636029   26.848039   10.909314  \n",
       "std         3.096188    6.736874    5.558091  \n",
       "min         3.000000    3.000000    1.000000  \n",
       "25%         9.750000   22.000000    7.000000  \n",
       "50%        12.000000   27.000000   10.000000  \n",
       "75%        14.000000   32.000000   14.000000  \n",
       "max        20.000000   51.000000   33.000000  "
      ]
     },
     "execution_count": 29,
     "metadata": {},
     "output_type": "execute_result"
    }
   ],
   "source": [
    "final_df.describe()"
   ]
  },
  {
   "cell_type": "code",
   "execution_count": 30,
   "metadata": {},
   "outputs": [
    {
     "data": {
      "application/javascript": [
       "window.require && require([\"base/js/namespace\"],function(Jupyter){Jupyter.notebook.save_checkpoint()})"
      ],
      "text/plain": [
       "<IPython.core.display.Javascript object>"
      ]
     },
     "metadata": {},
     "output_type": "display_data"
    },
    {
     "name": "stdout",
     "output_type": "stream",
     "text": [
      "[jovian] Updating notebook \"khush3nandecha/zerotopandas-course-project-ipl\" on https://jovian.ai/\n",
      "[jovian] Committed successfully! https://jovian.ai/khush3nandecha/zerotopandas-course-project-ipl\n"
     ]
    },
    {
     "data": {
      "text/plain": [
       "'https://jovian.ai/khush3nandecha/zerotopandas-course-project-ipl'"
      ]
     },
     "execution_count": 30,
     "metadata": {},
     "output_type": "execute_result"
    }
   ],
   "source": [
    "jovian.commit()"
   ]
  },
  {
   "cell_type": "markdown",
   "metadata": {},
   "source": [
    "#### Lets do some analysis.\n",
    "lets check on how many teams winning the toss have won the match also, as it will predict that how much teams are dependent\n",
    "on toss."
   ]
  },
  {
   "cell_type": "code",
   "execution_count": 31,
   "metadata": {
    "scrolled": true
   },
   "outputs": [
    {
     "data": {
      "text/plain": [
       "418"
      ]
     },
     "execution_count": 31,
     "metadata": {},
     "output_type": "execute_result"
    }
   ],
   "source": [
    "(final_df.toss_winner==final_df.winner).sum()"
   ]
  },
  {
   "cell_type": "markdown",
   "metadata": {},
   "source": [
    "So out of 816 matches 413 have been won by teams who also have won toss"
   ]
  },
  {
   "cell_type": "code",
   "execution_count": 32,
   "metadata": {},
   "outputs": [
    {
     "data": {
      "text/plain": [
       "51.225490196078425"
      ]
     },
     "execution_count": 32,
     "metadata": {},
     "output_type": "execute_result"
    }
   ],
   "source": [
    "#lets calculate the percentage \n",
    "(final_df.toss_winner==final_df.winner).sum() / (final_df.shape[0]) *100"
   ]
  },
  {
   "cell_type": "code",
   "execution_count": 33,
   "metadata": {
    "scrolled": true
   },
   "outputs": [
    {
     "data": {
      "text/plain": [
       "AB de Villiers    23\n",
       "CH Gayle          22\n",
       "RG Sharma         18\n",
       "DA Warner         17\n",
       "MS Dhoni          17\n",
       "Name: player_of_match, dtype: int64"
      ]
     },
     "execution_count": 33,
     "metadata": {},
     "output_type": "execute_result"
    }
   ],
   "source": [
    "#lets see the player with most number of man of the match\n",
    "final_df.player_of_match.value_counts().head()"
   ]
  },
  {
   "cell_type": "code",
   "execution_count": 34,
   "metadata": {},
   "outputs": [
    {
     "data": {
      "text/plain": [
       "Mumbai Indians                 62\n",
       "Chennai Super Kings            53\n",
       "Kolkata Knight Riders          41\n",
       "Kings XI Punjab                40\n",
       "Royal Challengers Bangalore    38\n",
       "Name: winner, dtype: int64"
      ]
     },
     "execution_count": 34,
     "metadata": {},
     "output_type": "execute_result"
    }
   ],
   "source": [
    "#teams with most wins while batting first\n",
    "final_df[final_df.result=='runs'].winner.value_counts().head()"
   ]
  },
  {
   "cell_type": "code",
   "execution_count": 35,
   "metadata": {},
   "outputs": [
    {
     "data": {
      "text/plain": [
       "Kolkata Knight Riders          57\n",
       "Mumbai Indians                 56\n",
       "Chennai Super Kings            53\n",
       "Royal Challengers Bangalore    51\n",
       "Rajasthan Royals               51\n",
       "Name: winner, dtype: int64"
      ]
     },
     "execution_count": 35,
     "metadata": {},
     "output_type": "execute_result"
    }
   ],
   "source": [
    "#teams with most wins while chasing\n",
    "final_df[final_df.result=='wickets'].winner.value_counts().head()"
   ]
  },
  {
   "cell_type": "markdown",
   "metadata": {},
   "source": [
    "#### It can be seen that Mumbai Indians have good numbers while batting first as well as second and Kolkata Knight Rinders have most wins while chasing.\n",
    "#### Chennai Super Kings have equal number of wins while doing both things."
   ]
  },
  {
   "cell_type": "code",
   "execution_count": 73,
   "metadata": {},
   "outputs": [
    {
     "data": {
      "text/plain": [
       "{'Mumbai Indians': 120,\n",
       " 'Chennai Super Kings': 106,\n",
       " 'Kolkata Knight Riders': 99,\n",
       " 'Royal Challengers Bangalore': 91,\n",
       " 'Kings XI Punjab': 88,\n",
       " 'Rajasthan Royals': 81,\n",
       " 'Delhi Daredevils': 67,\n",
       " 'Sunrisers Hyderabad': 66,\n",
       " 'Deccan Chargers': 29,\n",
       " 'Delhi Capitals': 19,\n",
       " 'Rising Pune Supergiants': 15,\n",
       " 'Gujarat Lions': 13,\n",
       " 'Pune Warriors': 12,\n",
       " 'Kochi Tuskers Kerala': 6}"
      ]
     },
     "execution_count": 73,
     "metadata": {},
     "output_type": "execute_result"
    }
   ],
   "source": [
    "#Lets see which team has won most matches\n",
    "won_matches=dict(final_df.winner.value_counts())\n",
    "won_matches"
   ]
  },
  {
   "cell_type": "code",
   "execution_count": 74,
   "metadata": {},
   "outputs": [],
   "source": [
    "#lets calculate total number of matches played by each franchise\n",
    "from collections import Counter\n",
    "a=dict(final_df.team1.value_counts())\n",
    "b=dict(final_df.team2.value_counts())\n",
    "total_matches= (Counter(a)+Counter(b))\n",
    "total_matches=dict(total_matches)"
   ]
  },
  {
   "cell_type": "code",
   "execution_count": 75,
   "metadata": {},
   "outputs": [
    {
     "data": {
      "text/html": [
       "<div>\n",
       "<style scoped>\n",
       "    .dataframe tbody tr th:only-of-type {\n",
       "        vertical-align: middle;\n",
       "    }\n",
       "\n",
       "    .dataframe tbody tr th {\n",
       "        vertical-align: top;\n",
       "    }\n",
       "\n",
       "    .dataframe thead th {\n",
       "        text-align: right;\n",
       "    }\n",
       "</style>\n",
       "<table border=\"1\" class=\"dataframe\">\n",
       "  <thead>\n",
       "    <tr style=\"text-align: right;\">\n",
       "      <th></th>\n",
       "      <th>win_percentage</th>\n",
       "    </tr>\n",
       "    <tr>\n",
       "      <th>team</th>\n",
       "      <th></th>\n",
       "    </tr>\n",
       "  </thead>\n",
       "  <tbody>\n",
       "    <tr>\n",
       "      <th>Chennai Super Kings</th>\n",
       "      <td>59.6</td>\n",
       "    </tr>\n",
       "    <tr>\n",
       "      <th>Mumbai Indians</th>\n",
       "      <td>59.1</td>\n",
       "    </tr>\n",
       "    <tr>\n",
       "      <th>Delhi Capitals</th>\n",
       "      <td>57.6</td>\n",
       "    </tr>\n",
       "    <tr>\n",
       "      <th>Sunrisers Hyderabad</th>\n",
       "      <td>53.2</td>\n",
       "    </tr>\n",
       "    <tr>\n",
       "      <th>Kolkata Knight Riders</th>\n",
       "      <td>51.6</td>\n",
       "    </tr>\n",
       "    <tr>\n",
       "      <th>Rajasthan Royals</th>\n",
       "      <td>50.3</td>\n",
       "    </tr>\n",
       "    <tr>\n",
       "      <th>Rising Pune Supergiants</th>\n",
       "      <td>50.0</td>\n",
       "    </tr>\n",
       "    <tr>\n",
       "      <th>Royal Challengers Bangalore</th>\n",
       "      <td>46.7</td>\n",
       "    </tr>\n",
       "    <tr>\n",
       "      <th>Kings XI Punjab</th>\n",
       "      <td>46.3</td>\n",
       "    </tr>\n",
       "    <tr>\n",
       "      <th>Gujarat Lions</th>\n",
       "      <td>43.3</td>\n",
       "    </tr>\n",
       "    <tr>\n",
       "      <th>Kochi Tuskers Kerala</th>\n",
       "      <td>42.9</td>\n",
       "    </tr>\n",
       "    <tr>\n",
       "      <th>Delhi Daredevils</th>\n",
       "      <td>41.6</td>\n",
       "    </tr>\n",
       "    <tr>\n",
       "      <th>Deccan Chargers</th>\n",
       "      <td>38.7</td>\n",
       "    </tr>\n",
       "    <tr>\n",
       "      <th>Pune Warriors</th>\n",
       "      <td>26.1</td>\n",
       "    </tr>\n",
       "  </tbody>\n",
       "</table>\n",
       "</div>"
      ],
      "text/plain": [
       "                             win_percentage\n",
       "team                                       \n",
       "Chennai Super Kings                    59.6\n",
       "Mumbai Indians                         59.1\n",
       "Delhi Capitals                         57.6\n",
       "Sunrisers Hyderabad                    53.2\n",
       "Kolkata Knight Riders                  51.6\n",
       "Rajasthan Royals                       50.3\n",
       "Rising Pune Supergiants                50.0\n",
       "Royal Challengers Bangalore            46.7\n",
       "Kings XI Punjab                        46.3\n",
       "Gujarat Lions                          43.3\n",
       "Kochi Tuskers Kerala                   42.9\n",
       "Delhi Daredevils                       41.6\n",
       "Deccan Chargers                        38.7\n",
       "Pune Warriors                          26.1"
      ]
     },
     "execution_count": 75,
     "metadata": {},
     "output_type": "execute_result"
    }
   ],
   "source": [
    "#lets calculate the win percentage of each team\n",
    "name=[]\n",
    "percent=[]\n",
    "for values1 in won_matches:\n",
    "    for values2 in total_matches:\n",
    "        p=0\n",
    "        \n",
    "        if(values1==values2):\n",
    "           p = (won_matches[values1])/(total_matches[values2])*100\n",
    "           percent.append(float(\"{0:0.1f}\".format(p)))\n",
    "           name.append(values1) \n",
    "        \n",
    "percent_data={'team':name,\n",
    "              'win_percentage':percent}\n",
    "percentage_win=pd.DataFrame(percent_data)\n",
    "percentage_win.set_index('team',inplace=True)\n",
    "percentage_win.sort_values(by=['win_percentage'], ascending=False)"
   ]
  },
  {
   "cell_type": "markdown",
   "metadata": {},
   "source": [
    "#### Most successful team is CSK followed closely by MI in terms of win percentage."
   ]
  },
  {
   "cell_type": "code",
   "execution_count": 39,
   "metadata": {},
   "outputs": [
    {
     "data": {
      "text/plain": [
       "Mumbai           101\n",
       "Kolkata           77\n",
       "Delhi             74\n",
       "Bangalore         65\n",
       "Hyderabad         64\n",
       "Chennai           57\n",
       "Chandigarh        56\n",
       "Jaipur            47\n",
       "Pune              38\n",
       "Abu Dhabi         29\n",
       "Dubai             26\n",
       "Bengaluru         15\n",
       "Durban            15\n",
       "Visakhapatnam     13\n",
       "Sharjah           12\n",
       "Name: city, dtype: int64"
      ]
     },
     "execution_count": 39,
     "metadata": {},
     "output_type": "execute_result"
    }
   ],
   "source": [
    "#lets see which city has hosted most matches\n",
    "final_df.city.value_counts().head(15)"
   ]
  },
  {
   "cell_type": "markdown",
   "metadata": {},
   "source": [
    "##### Now lets create a for loop to calculate the wickets, fours and sixes for each ground. "
   ]
  },
  {
   "cell_type": "code",
   "execution_count": 40,
   "metadata": {},
   "outputs": [],
   "source": [
    "name=[]\n",
    "boundries=[]\n",
    "wickets=[]\n",
    "for i in final_df.venue.unique():\n",
    "    name.append(i)\n",
    "    boundries.append((final_df[final_df.venue==i].sixes.sum())+(final_df[final_df.venue==i].fours.sum()))\n",
    "    wickets.append(final_df[final_df.venue==i].total_wickets.sum())\n",
    "    \n",
    "stadium = {'venue':name,\n",
    "           'total_boundries':boundries,\n",
    "           'total_wickets':wickets}\n",
    "#dataframe with total wickets, fours and sixes in each stadium\n",
    "stadium_df=pd.DataFrame(stadium)\n",
    "\n",
    "#lets create a data frame of total matches hosted by each stadium\n",
    "df=pd.DataFrame(final_df.venue.value_counts())\n",
    "df=df.reset_index(level=0)\n",
    "df=df.rename(columns={'index':'venue','venue':'total_matches'})\n",
    "\n",
    "#lets merge the two data frames\n",
    "stadium_stats_raw = df.merge(stadium_df,on='venue') \n",
    "\n",
    "#lets create 3 more columns with fours,sixes and wickets per match\n",
    "stadium_stats_raw['boundries_per_match'] = stadium_stats_raw.total_boundries/stadium_stats_raw.total_matches\n",
    "stadium_stats_raw['wickets_per_match'] = stadium_stats_raw.total_wickets/stadium_stats_raw.total_matches"
   ]
  },
  {
   "cell_type": "code",
   "execution_count": 41,
   "metadata": {},
   "outputs": [
    {
     "data": {
      "text/html": [
       "<div>\n",
       "<style scoped>\n",
       "    .dataframe tbody tr th:only-of-type {\n",
       "        vertical-align: middle;\n",
       "    }\n",
       "\n",
       "    .dataframe tbody tr th {\n",
       "        vertical-align: top;\n",
       "    }\n",
       "\n",
       "    .dataframe thead th {\n",
       "        text-align: right;\n",
       "    }\n",
       "</style>\n",
       "<table border=\"1\" class=\"dataframe\">\n",
       "  <thead>\n",
       "    <tr style=\"text-align: right;\">\n",
       "      <th></th>\n",
       "      <th>venue</th>\n",
       "      <th>total_matches</th>\n",
       "      <th>total_boundries</th>\n",
       "      <th>total_wickets</th>\n",
       "      <th>boundries_per_match</th>\n",
       "      <th>wickets_per_match</th>\n",
       "    </tr>\n",
       "  </thead>\n",
       "  <tbody>\n",
       "    <tr>\n",
       "      <th>0</th>\n",
       "      <td>Eden Gardens</td>\n",
       "      <td>77</td>\n",
       "      <td>3036</td>\n",
       "      <td>878</td>\n",
       "      <td>39.428571</td>\n",
       "      <td>11.402597</td>\n",
       "    </tr>\n",
       "    <tr>\n",
       "      <th>1</th>\n",
       "      <td>Feroz Shah Kotla</td>\n",
       "      <td>74</td>\n",
       "      <td>2860</td>\n",
       "      <td>866</td>\n",
       "      <td>38.648649</td>\n",
       "      <td>11.702703</td>\n",
       "    </tr>\n",
       "    <tr>\n",
       "      <th>2</th>\n",
       "      <td>Wankhede Stadium</td>\n",
       "      <td>73</td>\n",
       "      <td>2993</td>\n",
       "      <td>892</td>\n",
       "      <td>41.000000</td>\n",
       "      <td>12.219178</td>\n",
       "    </tr>\n",
       "    <tr>\n",
       "      <th>3</th>\n",
       "      <td>M Chinnaswamy Stadium</td>\n",
       "      <td>65</td>\n",
       "      <td>2601</td>\n",
       "      <td>741</td>\n",
       "      <td>40.015385</td>\n",
       "      <td>11.400000</td>\n",
       "    </tr>\n",
       "    <tr>\n",
       "      <th>4</th>\n",
       "      <td>Rajiv Gandhi International Stadium, Uppal</td>\n",
       "      <td>64</td>\n",
       "      <td>2318</td>\n",
       "      <td>755</td>\n",
       "      <td>36.218750</td>\n",
       "      <td>11.796875</td>\n",
       "    </tr>\n",
       "    <tr>\n",
       "      <th>5</th>\n",
       "      <td>MA Chidambaram Stadium, Chepauk</td>\n",
       "      <td>57</td>\n",
       "      <td>2051</td>\n",
       "      <td>663</td>\n",
       "      <td>35.982456</td>\n",
       "      <td>11.631579</td>\n",
       "    </tr>\n",
       "    <tr>\n",
       "      <th>6</th>\n",
       "      <td>Sawai Mansingh Stadium</td>\n",
       "      <td>47</td>\n",
       "      <td>1712</td>\n",
       "      <td>518</td>\n",
       "      <td>36.425532</td>\n",
       "      <td>11.021277</td>\n",
       "    </tr>\n",
       "    <tr>\n",
       "      <th>7</th>\n",
       "      <td>Punjab Cricket Association Stadium, Mohali</td>\n",
       "      <td>35</td>\n",
       "      <td>1347</td>\n",
       "      <td>411</td>\n",
       "      <td>38.485714</td>\n",
       "      <td>11.742857</td>\n",
       "    </tr>\n",
       "    <tr>\n",
       "      <th>8</th>\n",
       "      <td>Dubai International Cricket Stadium</td>\n",
       "      <td>33</td>\n",
       "      <td>1209</td>\n",
       "      <td>385</td>\n",
       "      <td>36.636364</td>\n",
       "      <td>11.666667</td>\n",
       "    </tr>\n",
       "    <tr>\n",
       "      <th>9</th>\n",
       "      <td>Sheikh Zayed Stadium</td>\n",
       "      <td>29</td>\n",
       "      <td>1035</td>\n",
       "      <td>325</td>\n",
       "      <td>35.689655</td>\n",
       "      <td>11.206897</td>\n",
       "    </tr>\n",
       "    <tr>\n",
       "      <th>10</th>\n",
       "      <td>Maharashtra Cricket Association Stadium</td>\n",
       "      <td>21</td>\n",
       "      <td>813</td>\n",
       "      <td>241</td>\n",
       "      <td>38.714286</td>\n",
       "      <td>11.476190</td>\n",
       "    </tr>\n",
       "    <tr>\n",
       "      <th>11</th>\n",
       "      <td>Punjab Cricket Association IS Bindra Stadium, ...</td>\n",
       "      <td>21</td>\n",
       "      <td>847</td>\n",
       "      <td>219</td>\n",
       "      <td>40.333333</td>\n",
       "      <td>10.428571</td>\n",
       "    </tr>\n",
       "  </tbody>\n",
       "</table>\n",
       "</div>"
      ],
      "text/plain": [
       "                                                venue  total_matches  \\\n",
       "0                                        Eden Gardens             77   \n",
       "1                                    Feroz Shah Kotla             74   \n",
       "2                                    Wankhede Stadium             73   \n",
       "3                               M Chinnaswamy Stadium             65   \n",
       "4           Rajiv Gandhi International Stadium, Uppal             64   \n",
       "5                     MA Chidambaram Stadium, Chepauk             57   \n",
       "6                              Sawai Mansingh Stadium             47   \n",
       "7          Punjab Cricket Association Stadium, Mohali             35   \n",
       "8                 Dubai International Cricket Stadium             33   \n",
       "9                                Sheikh Zayed Stadium             29   \n",
       "10            Maharashtra Cricket Association Stadium             21   \n",
       "11  Punjab Cricket Association IS Bindra Stadium, ...             21   \n",
       "\n",
       "    total_boundries  total_wickets  boundries_per_match  wickets_per_match  \n",
       "0              3036            878            39.428571          11.402597  \n",
       "1              2860            866            38.648649          11.702703  \n",
       "2              2993            892            41.000000          12.219178  \n",
       "3              2601            741            40.015385          11.400000  \n",
       "4              2318            755            36.218750          11.796875  \n",
       "5              2051            663            35.982456          11.631579  \n",
       "6              1712            518            36.425532          11.021277  \n",
       "7              1347            411            38.485714          11.742857  \n",
       "8              1209            385            36.636364          11.666667  \n",
       "9              1035            325            35.689655          11.206897  \n",
       "10              813            241            38.714286          11.476190  \n",
       "11              847            219            40.333333          10.428571  "
      ]
     },
     "execution_count": 41,
     "metadata": {},
     "output_type": "execute_result"
    }
   ],
   "source": [
    "#lets take only those stadiums which has hosted more than 20 matches.\n",
    "stadium_stats = stadium_stats_raw[stadium_stats_raw.total_matches>20]\n",
    "stadium_stats"
   ]
  },
  {
   "cell_type": "code",
   "execution_count": 42,
   "metadata": {},
   "outputs": [
    {
     "data": {
      "application/javascript": [
       "window.require && require([\"base/js/namespace\"],function(Jupyter){Jupyter.notebook.save_checkpoint()})"
      ],
      "text/plain": [
       "<IPython.core.display.Javascript object>"
      ]
     },
     "metadata": {},
     "output_type": "display_data"
    },
    {
     "name": "stdout",
     "output_type": "stream",
     "text": [
      "[jovian] Updating notebook \"khush3nandecha/zerotopandas-course-project-ipl\" on https://jovian.ai/\n",
      "[jovian] Committed successfully! https://jovian.ai/khush3nandecha/zerotopandas-course-project-ipl\n"
     ]
    },
    {
     "data": {
      "text/plain": [
       "'https://jovian.ai/khush3nandecha/zerotopandas-course-project-ipl'"
      ]
     },
     "execution_count": 42,
     "metadata": {},
     "output_type": "execute_result"
    }
   ],
   "source": [
    "jovian.commit()"
   ]
  },
  {
   "cell_type": "markdown",
   "metadata": {},
   "source": [
    "\n",
    "\n",
    "## Exploratory Analysis and Visualization\n",
    "\n",
    "Now as the cleaning and exploring the data is done lets visualize what we have observed.\n",
    "\n",
    "We will use libraries such as matplotlib and seaborn"
   ]
  },
  {
   "cell_type": "code",
   "execution_count": 43,
   "metadata": {},
   "outputs": [],
   "source": [
    "from matplotlib import pyplot as plt\n",
    "import seaborn as sns\n",
    "import numpy as np\n",
    "%matplotlib inline"
   ]
  },
  {
   "cell_type": "code",
   "execution_count": 44,
   "metadata": {},
   "outputs": [],
   "source": [
    "sns.set_style('darkgrid')"
   ]
  },
  {
   "cell_type": "code",
   "execution_count": 45,
   "metadata": {},
   "outputs": [
    {
     "data": {
      "image/png": "[encoded data removed]",
      "text/plain": [
       "<Figure size 864x360 with 2 Axes>"
      ]
     },
     "metadata": {},
     "output_type": "display_data"
    }
   ],
   "source": [
    "#lets look at the top 5 toss winners and man of the match\n",
    "plt.figure(figsize=(12,5))\n",
    "data1=final_df.toss_winner.value_counts().head()\n",
    "plt.subplot(1,2,1);\n",
    "plt.bar(data1.keys(),data1,color='g');\n",
    "plt.xticks(rotation=-45);\n",
    "plt.xlabel('TEAMS');\n",
    "plt.ylabel('No OF TOSS WINS');\n",
    "\n",
    "data2=final_df.player_of_match.value_counts().head()\n",
    "plt.subplot(1,2,2);\n",
    "plt.bar(data2.keys(),data2,color='orange');\n",
    "plt.xticks(rotation=-45);\n",
    "plt.xlabel('PLAYERS');\n",
    "plt.ylabel('No OF AWARDS');"
   ]
  },
  {
   "cell_type": "markdown",
   "metadata": {},
   "source": [
    "We can see that there is no drastic changes in the top5 of both the graphs"
   ]
  },
  {
   "cell_type": "code",
   "execution_count": 46,
   "metadata": {},
   "outputs": [
    {
     "data": {
      "image/png": "[encoded data removed]",
      "text/plain": [
       "<Figure size 720x504 with 3 Axes>"
      ]
     },
     "metadata": {},
     "output_type": "display_data"
    }
   ],
   "source": [
    "#lets see stadium wise data(only for stadiums which has hosted more than 20 matches).\n",
    "plt.figure(figsize=(10,7))\n",
    "plt.subplots_adjust(left=0.1, bottom=0.1, right=0.9, top=0.9, wspace=0.4, hspace=0.4)\n",
    "\n",
    "plt.subplot2grid((3,2),(0,0),colspan=2)\n",
    "plt.barh(stadium_stats.venue,stadium_stats.total_matches);\n",
    "plt.ylabel('VENUE');\n",
    "plt.xlabel('TOTAL MATCHES');\n",
    "\n",
    "plt.subplot2grid((3,2),(1,0),colspan=2)\n",
    "plt.barh(stadium_stats.venue,stadium_stats.boundries_per_match,color=(0.2, 0.4, 0.6, 0.6));\n",
    "plt.xlabel('VENUE');\n",
    "plt.ylabel('AVERAGE BOUNDRIES');\n",
    "\n",
    "plt.subplot2grid((3,2),(2,0),colspan=2)\n",
    "plt.barh(stadium_stats.venue,stadium_stats.wickets_per_match,color=(0.5, 0.5, 0.6, 0.6));\n",
    "plt.xlabel('VENUE');\n",
    "plt.ylabel('AVERAGE WICKETS');"
   ]
  },
  {
   "cell_type": "markdown",
   "metadata": {},
   "source": [
    "We can see that of the stadiums hosted most matches Wankhede has most boundries and wickets per match, while PCA Mohali has a big difference between boundries and wickets per match so it can be said that it is a high scoring ground."
   ]
  },
  {
   "cell_type": "code",
   "execution_count": 47,
   "metadata": {},
   "outputs": [
    {
     "data": {
      "image/png": "[encoded data removed]",
      "text/plain": [
       "<Figure size 1080x1080 with 2 Axes>"
      ]
     },
     "metadata": {},
     "output_type": "display_data"
    }
   ],
   "source": [
    "#Now lets see which team has highest win% while batting and bowling first.\n",
    "batting_first=final_df[final_df.result=='runs']\n",
    "bowling_first=final_df[final_df.result=='wickets']\n",
    "\n",
    "plt.figure(figsize=(15,15))\n",
    "colors = sns.color_palette('pastel')\n",
    "plt.subplots_adjust(left=0.1, bottom=0.1, right=0.9, top=0.9, wspace=0.4, hspace=0.4)\n",
    "\n",
    "\n",
    "plt.subplot2grid((1,3),(0,0))\n",
    "plt.pie(batting_first.winner.value_counts(), labels=batting_first.winner.value_counts().keys(), colors=colors, autopct='%0.1f%%');\n",
    "plt.title('BATTING FIRST');\n",
    "\n",
    "plt.subplot2grid((1,3),(0,2))\n",
    "plt.pie(bowling_first.winner.value_counts(), labels=bowling_first.winner.value_counts().keys(), colors=colors, autopct='%0.1f%%');\n",
    "plt.title('BOWLING FIRST');\n"
   ]
  },
  {
   "cell_type": "markdown",
   "metadata": {},
   "source": [
    "We can notice that whether it is batting or bowling first MI is better than others."
   ]
  },
  {
   "cell_type": "code",
   "execution_count": 48,
   "metadata": {},
   "outputs": [
    {
     "data": {
      "image/png": "[encoded data removed]",
      "text/plain": [
       "<Figure size 1080x504 with 1 Axes>"
      ]
     },
     "metadata": {},
     "output_type": "display_data"
    }
   ],
   "source": [
    "#Lets see a comparison of victory margin while chasing and defending.\n",
    "plt.figure(figsize=(15,7))\n",
    "area= np.pi * (0.15*(final_df.result_margin))**2\n",
    "sns.scatterplot(data=final_df, x='first_inning_runs', y=\"second_inning_runs\",hue='result', s=area, alpha=0.7, cmap='Spectral')\n",
    "plt.show()"
   ]
  },
  {
   "cell_type": "markdown",
   "metadata": {},
   "source": [
    "As seen in the plot the orange circle is the win margin by wickets and as there are only few bigger circles that means that most of the wins have been by a lesser wicket margin. Also the blue circles means that a match is won by team batting first so majority of the matches have gone to the wire but few high scoring matches have been one sided. Some matches are represented by green dots which were tied."
   ]
  },
  {
   "cell_type": "code",
   "execution_count": 49,
   "metadata": {},
   "outputs": [
    {
     "data": {
      "image/png": "[encoded data removed]",
      "text/plain": [
       "<Figure size 1080x360 with 2 Axes>"
      ]
     },
     "metadata": {},
     "output_type": "display_data"
    }
   ],
   "source": [
    "#Now lets see the margin of all matches by team batting first.\n",
    "plt.figure(figsize=(15,5))\n",
    "\n",
    "plt.subplot2grid((1,2),(0,0))\n",
    "plt.xlabel('Runs')\n",
    "plt.ylabel('No. of matches')\n",
    "plt.title('Distribution of runs')\n",
    "_,_,patches1 = plt.hist(batting_first['result_margin'], bins=7, color='g')\n",
    "for pp in patches1:\n",
    "   x = (pp._x0 + pp._x1)/2\n",
    "   y = pp._y1 + 0.05\n",
    "   plt.text(x, y, pp._y1)\n",
    "\n",
    "plt.subplot2grid((1,2),(0,1))\n",
    "plt.xlabel('Wickets')\n",
    "plt.ylabel('No. of matches')\n",
    "plt.title('Distribution of wickets')\n",
    "_,_,patches2 = plt.hist(bowling_first['result_margin'], color='c')\n",
    "for pp in patches2:\n",
    "   x = (pp._x0 + pp._x1)/2\n",
    "   y = pp._y1 + 0.05\n",
    "   plt.text(x, y, pp._y1)\n",
    "\n",
    "plt.show()"
   ]
  },
  {
   "cell_type": "markdown",
   "metadata": {},
   "source": [
    "We can see that Half the no of matches batting first has been won under 20runs and only 8 matches have been won by more than 100 runs. While chasing team have won majority of matches losing around 2 to 5 wickets and only 9 matches have been won when the team lost more than 7 wickets."
   ]
  },
  {
   "cell_type": "code",
   "execution_count": 50,
   "metadata": {},
   "outputs": [
    {
     "data": {
      "application/javascript": [
       "window.require && require([\"base/js/namespace\"],function(Jupyter){Jupyter.notebook.save_checkpoint()})"
      ],
      "text/plain": [
       "<IPython.core.display.Javascript object>"
      ]
     },
     "metadata": {},
     "output_type": "display_data"
    },
    {
     "name": "stdout",
     "output_type": "stream",
     "text": [
      "[jovian] Updating notebook \"khush3nandecha/zerotopandas-course-project-ipl\" on https://jovian.ai/\n",
      "[jovian] Committed successfully! https://jovian.ai/khush3nandecha/zerotopandas-course-project-ipl\n"
     ]
    },
    {
     "data": {
      "text/plain": [
       "'https://jovian.ai/khush3nandecha/zerotopandas-course-project-ipl'"
      ]
     },
     "execution_count": 50,
     "metadata": {},
     "output_type": "execute_result"
    }
   ],
   "source": [
    "jovian.commit()"
   ]
  },
  {
   "cell_type": "markdown",
   "metadata": {},
   "source": [
    "## Asking and Answering Questions\n",
    "Lets answer some questions based on the data we have analyzed."
   ]
  },
  {
   "cell_type": "markdown",
   "metadata": {},
   "source": [
    "### Q1] Which player has won most matches for his team?"
   ]
  },
  {
   "cell_type": "code",
   "execution_count": 58,
   "metadata": {},
   "outputs": [
    {
     "data": {
      "text/plain": [
       "AB de Villiers    23\n",
       "CH Gayle          22\n",
       "RG Sharma         18\n",
       "DA Warner         17\n",
       "MS Dhoni          17\n",
       "Name: player_of_match, dtype: int64"
      ]
     },
     "execution_count": 58,
     "metadata": {},
     "output_type": "execute_result"
    }
   ],
   "source": [
    "most_pom = final_df.player_of_match.value_counts().head()\n",
    "most_pom"
   ]
  },
  {
   "cell_type": "markdown",
   "metadata": {},
   "source": [
    "We can see the top 5 players with most player of the match award. Now lets see it in the graph also."
   ]
  },
  {
   "cell_type": "code",
   "execution_count": 65,
   "metadata": {},
   "outputs": [
    {
     "data": {
      "image/png": "[encoded data removed]",
      "text/plain": [
       "<Figure size 504x360 with 1 Axes>"
      ]
     },
     "metadata": {},
     "output_type": "display_data"
    }
   ],
   "source": [
    "plt.figure(figsize=(7,5))\n",
    "plt.bar(most_pom.index, most_pom, color='purple')\n",
    "plt.xticks(rotation=-15)\n",
    "plt.show()"
   ]
  },
  {
   "cell_type": "markdown",
   "metadata": {},
   "source": [
    "### Q2] Does toss matters to win a match?\n",
    "\n",
    "Lets calculate the percentage of matches wom by team which also won the toss."
   ]
  },
  {
   "cell_type": "code",
   "execution_count": 67,
   "metadata": {},
   "outputs": [
    {
     "data": {
      "text/plain": [
       "51.225490196078425"
      ]
     },
     "execution_count": 67,
     "metadata": {},
     "output_type": "execute_result"
    }
   ],
   "source": [
    "(final_df.toss_winner==final_df.winner).sum() / (final_df.shape[0]) *100"
   ]
  },
  {
   "cell_type": "markdown",
   "metadata": {},
   "source": [
    "As calculated the percentage of matches won by team winning the toss is just around **51%** so we can say that toss **does not affect the result** of the match. "
   ]
  },
  {
   "cell_type": "markdown",
   "metadata": {},
   "source": [
    "### Q3] Which stadium is best for batting and which is best for bowling and which is best for a competitive game?\n",
    "To see see the stats lets plot the graph for all the stadiums which has hosted more than 20 matches."
   ]
  },
  {
   "cell_type": "code",
   "execution_count": 68,
   "metadata": {},
   "outputs": [
    {
     "data": {
      "image/png": "[encoded data removed]",
      "text/plain": [
       "<Figure size 720x504 with 3 Axes>"
      ]
     },
     "metadata": {},
     "output_type": "display_data"
    }
   ],
   "source": [
    "plt.figure(figsize=(10,7))\n",
    "plt.subplots_adjust(left=0.1, bottom=0.1, right=0.9, top=0.9, wspace=0.4, hspace=0.4)\n",
    "\n",
    "plt.subplot2grid((3,2),(0,0),colspan=2)\n",
    "plt.barh(stadium_stats.venue,stadium_stats.total_matches);\n",
    "plt.ylabel('VENUE');\n",
    "plt.xlabel('TOTAL MATCHES');\n",
    "\n",
    "plt.subplot2grid((3,2),(1,0),colspan=2)\n",
    "plt.barh(stadium_stats.venue,stadium_stats.boundries_per_match,color=(0.2, 0.4, 0.6, 0.6));\n",
    "plt.xlabel('VENUE');\n",
    "plt.ylabel('AVERAGE BOUNDRIES');\n",
    "\n",
    "plt.subplot2grid((3,2),(2,0),colspan=2)\n",
    "plt.barh(stadium_stats.venue,stadium_stats.wickets_per_match,color=(0.5, 0.5, 0.6, 0.6));\n",
    "plt.xlabel('VENUE');\n",
    "plt.ylabel('AVERAGE WICKETS');"
   ]
  },
  {
   "cell_type": "markdown",
   "metadata": {},
   "source": [
    "**Punjab Cricket Association Stadium, Mohali** has best conditions for batting as the wickets per match is lowest and boundries per match is highest.<br>\n",
    "**Rajiv Gandhi International Stadium, Uppal** and **MA Chidambaram Stadium, Chepauk** are best for bowling as the boundries are tough to score here and average wicket per match is also high.<br>\n",
    "**Wankhede Stadium, Mumbai** is best for a competitive game as boundries per match and wickets per match, both are higher than any other stadium and they both are same so both bowlers and batsman enjoy playing here."
   ]
  },
  {
   "cell_type": "markdown",
   "metadata": {},
   "source": [
    "### Q4] Which team is least affected by the result of the toss?\n",
    "lets plot two pie chart, one for batting first and second for bowling first."
   ]
  },
  {
   "cell_type": "code",
   "execution_count": 69,
   "metadata": {},
   "outputs": [
    {
     "data": {
      "image/png": "[encoded data removed]",
      "text/plain": [
       "<Figure size 1080x1080 with 2 Axes>"
      ]
     },
     "metadata": {},
     "output_type": "display_data"
    }
   ],
   "source": [
    "plt.figure(figsize=(15,15))\n",
    "colors = sns.color_palette('pastel')\n",
    "plt.subplots_adjust(left=0.1, bottom=0.1, right=0.9, top=0.9, wspace=0.4, hspace=0.4)\n",
    "\n",
    "\n",
    "plt.subplot2grid((1,3),(0,0))\n",
    "plt.pie(batting_first.winner.value_counts(), labels=batting_first.winner.value_counts().keys(), colors=colors, autopct='%0.1f%%');\n",
    "plt.title('BATTING FIRST');\n",
    "\n",
    "plt.subplot2grid((1,3),(0,2))\n",
    "plt.pie(bowling_first.winner.value_counts(), labels=bowling_first.winner.value_counts().keys(), colors=colors, autopct='%0.1f%%');\n",
    "plt.title('BOWLING FIRST');"
   ]
  },
  {
   "cell_type": "markdown",
   "metadata": {},
   "source": [
    "**Mumbai Indians** is least affected by the result of the toss as they have higest percentage of wins while batting first and just behind KKR by 0.2% , so it can be said that they are compartively better in both the departments."
   ]
  },
  {
   "cell_type": "markdown",
   "metadata": {},
   "source": [
    "### Q5] Which team is most successful in the IPL?\n",
    " lets make a dataframe with win percentage of each team and total matches won by each team."
   ]
  },
  {
   "cell_type": "code",
   "execution_count": 89,
   "metadata": {},
   "outputs": [
    {
     "data": {
      "text/html": [
       "<div>\n",
       "<style scoped>\n",
       "    .dataframe tbody tr th:only-of-type {\n",
       "        vertical-align: middle;\n",
       "    }\n",
       "\n",
       "    .dataframe tbody tr th {\n",
       "        vertical-align: top;\n",
       "    }\n",
       "\n",
       "    .dataframe thead th {\n",
       "        text-align: right;\n",
       "    }\n",
       "</style>\n",
       "<table border=\"1\" class=\"dataframe\">\n",
       "  <thead>\n",
       "    <tr style=\"text-align: right;\">\n",
       "      <th></th>\n",
       "      <th>win_percentage</th>\n",
       "      <th>total_matches_won</th>\n",
       "    </tr>\n",
       "  </thead>\n",
       "  <tbody>\n",
       "    <tr>\n",
       "      <th>Mumbai Indians</th>\n",
       "      <td>59.1</td>\n",
       "      <td>120</td>\n",
       "    </tr>\n",
       "    <tr>\n",
       "      <th>Chennai Super Kings</th>\n",
       "      <td>59.6</td>\n",
       "      <td>106</td>\n",
       "    </tr>\n",
       "    <tr>\n",
       "      <th>Kolkata Knight Riders</th>\n",
       "      <td>51.6</td>\n",
       "      <td>99</td>\n",
       "    </tr>\n",
       "    <tr>\n",
       "      <th>Royal Challengers Bangalore</th>\n",
       "      <td>46.7</td>\n",
       "      <td>91</td>\n",
       "    </tr>\n",
       "    <tr>\n",
       "      <th>Kings XI Punjab</th>\n",
       "      <td>46.3</td>\n",
       "      <td>88</td>\n",
       "    </tr>\n",
       "    <tr>\n",
       "      <th>Rajasthan Royals</th>\n",
       "      <td>50.3</td>\n",
       "      <td>81</td>\n",
       "    </tr>\n",
       "    <tr>\n",
       "      <th>Delhi Daredevils</th>\n",
       "      <td>41.6</td>\n",
       "      <td>67</td>\n",
       "    </tr>\n",
       "    <tr>\n",
       "      <th>Sunrisers Hyderabad</th>\n",
       "      <td>53.2</td>\n",
       "      <td>66</td>\n",
       "    </tr>\n",
       "    <tr>\n",
       "      <th>Deccan Chargers</th>\n",
       "      <td>38.7</td>\n",
       "      <td>29</td>\n",
       "    </tr>\n",
       "    <tr>\n",
       "      <th>Delhi Capitals</th>\n",
       "      <td>57.6</td>\n",
       "      <td>19</td>\n",
       "    </tr>\n",
       "    <tr>\n",
       "      <th>Rising Pune Supergiants</th>\n",
       "      <td>50.0</td>\n",
       "      <td>15</td>\n",
       "    </tr>\n",
       "    <tr>\n",
       "      <th>Gujarat Lions</th>\n",
       "      <td>43.3</td>\n",
       "      <td>13</td>\n",
       "    </tr>\n",
       "    <tr>\n",
       "      <th>Pune Warriors</th>\n",
       "      <td>26.1</td>\n",
       "      <td>12</td>\n",
       "    </tr>\n",
       "    <tr>\n",
       "      <th>Kochi Tuskers Kerala</th>\n",
       "      <td>42.9</td>\n",
       "      <td>6</td>\n",
       "    </tr>\n",
       "  </tbody>\n",
       "</table>\n",
       "</div>"
      ],
      "text/plain": [
       "                             win_percentage  total_matches_won\n",
       "Mumbai Indians                         59.1                120\n",
       "Chennai Super Kings                    59.6                106\n",
       "Kolkata Knight Riders                  51.6                 99\n",
       "Royal Challengers Bangalore            46.7                 91\n",
       "Kings XI Punjab                        46.3                 88\n",
       "Rajasthan Royals                       50.3                 81\n",
       "Delhi Daredevils                       41.6                 67\n",
       "Sunrisers Hyderabad                    53.2                 66\n",
       "Deccan Chargers                        38.7                 29\n",
       "Delhi Capitals                         57.6                 19\n",
       "Rising Pune Supergiants                50.0                 15\n",
       "Gujarat Lions                          43.3                 13\n",
       "Pune Warriors                          26.1                 12\n",
       "Kochi Tuskers Kerala                   42.9                  6"
      ]
     },
     "execution_count": 89,
     "metadata": {},
     "output_type": "execute_result"
    }
   ],
   "source": [
    "total_matches_won = final_df.winner.value_counts()\n",
    "team_stats = pd.merge(percentage_win,total_matches_won, left_index=True, right_index=True)\n",
    "team_stats.rename(columns={'winner':'total_matches_won'},inplace=True)\n",
    "team_stats"
   ]
  },
  {
   "cell_type": "markdown",
   "metadata": {},
   "source": [
    "Going by the **win percentage CSK** is the most successful with a win% of **59.6** which is followed closely by **MI** with win% of **59.1**.<br>\n",
    "But if we go by **most wins** then **MI** is the most successful francise with total no of wins = **120, 14** more than the second successful."
   ]
  },
  {
   "cell_type": "code",
   "execution_count": 52,
   "metadata": {},
   "outputs": [
    {
     "data": {
      "application/javascript": [
       "window.require && require([\"base/js/namespace\"],function(Jupyter){Jupyter.notebook.save_checkpoint()})"
      ],
      "text/plain": [
       "<IPython.core.display.Javascript object>"
      ]
     },
     "metadata": {},
     "output_type": "display_data"
    },
    {
     "name": "stdout",
     "output_type": "stream",
     "text": [
      "[jovian] Updating notebook \"khush3nandecha/zerotopandas-course-project-ipl\" on https://jovian.ai/\n",
      "[jovian] Committed successfully! https://jovian.ai/khush3nandecha/zerotopandas-course-project-ipl\n"
     ]
    },
    {
     "data": {
      "text/plain": [
       "'https://jovian.ai/khush3nandecha/zerotopandas-course-project-ipl'"
      ]
     },
     "execution_count": 52,
     "metadata": {},
     "output_type": "execute_result"
    }
   ],
   "source": [
    "jovian.commit()"
   ]
  },
  {
   "cell_type": "markdown",
   "metadata": {},
   "source": [
    "## Inferences and Conclusion\n"
   ]
  },
  {
   "cell_type": "markdown",
   "metadata": {},
   "source": [
    "- Based on the analysis we can say that toss does not affect he result for any team, its how the team plays the crucial situation wins you the matches.<br>\n",
    "- Also going by the numbers MI and CSK are the two most successful francise in the league.<br>\n",
    "- It was also seen that some stadiums were from different countries which brings us to the a point that not every season is conducted in India although its Indian Premeire League."
   ]
  },
  {
   "cell_type": "markdown",
   "metadata": {},
   "source": [
    "## References \n",
    "\n",
    "Check out the following resources to learn more about the dataset and tools used in this notebook:\n",
    "\n",
    "- Geeksforgeeks: https://www.geeksforgeeks.org/\n",
    "- Kaggle : https://www.kaggle.com/datasets\n",
    "- Pandas user guide: https://pandas.pydata.org/docs/user_guide\n",
    "- Seaborn user guide & tutorial: https://seaborn.pydata.org\n",
    "- Matplotlib user guide: https://matplotlib.org/3.3.1/users\n",
    "- Jupyter Notebook user guide : https://jupyter-notebook.readthedocs.io/en/stable/"
   ]
  },
  {
   "cell_type": "code",
   "execution_count": 92,
   "metadata": {
    "scrolled": true
   },
   "outputs": [
    {
     "data": {
      "application/javascript": [
       "window.require && require([\"base/js/namespace\"],function(Jupyter){Jupyter.notebook.save_checkpoint()})"
      ],
      "text/plain": [
       "<IPython.core.display.Javascript object>"
      ]
     },
     "metadata": {},
     "output_type": "display_data"
    },
    {
     "name": "stdout",
     "output_type": "stream",
     "text": [
      "[jovian] Updating notebook \"khush3nandecha/zerotopandas-course-project-ipl\" on https://jovian.ai/\n",
      "[jovian] Committed successfully! https://jovian.ai/khush3nandecha/zerotopandas-course-project-ipl\n"
     ]
    },
    {
     "data": {
      "text/plain": [
       "'https://jovian.ai/khush3nandecha/zerotopandas-course-project-ipl'"
      ]
     },
     "execution_count": 92,
     "metadata": {},
     "output_type": "execute_result"
    }
   ],
   "source": [
    "jovian.commit()"
   ]
  }
 ],
 "metadata": {
  "kernelspec": {
   "display_name": "Python 3",
   "language": "python",
   "name": "python3"
  },
  "language_info": {
   "codemirror_mode": {
    "name": "ipython",
    "version": 3
   },
   "file_extension": ".py",
   "mimetype": "text/x-python",
   "name": "python",
   "nbconvert_exporter": "python",
   "pygments_lexer": "ipython3",
   "version": "3.7.6"
  }
 },
 "nbformat": 4,
 "nbformat_minor": 4
}
